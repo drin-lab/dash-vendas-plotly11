{
 "cells": [
  {
   "cell_type": "code",
   "execution_count": 1,
   "metadata": {},
   "outputs": [],
   "source": [
    "import pandas as pd\n",
    "import numpy as np"
   ]
  },
  {
   "cell_type": "code",
   "execution_count": 2,
   "metadata": {},
   "outputs": [],
   "source": [
    "vendas= pd.read_csv('Aula 2.csv', sep=\";\", engine=\"python\").transpose()"
   ]
  },
  {
   "cell_type": "code",
   "execution_count": 3,
   "metadata": {},
   "outputs": [
    {
     "data": {
      "text/html": [
       "<div>\n",
       "<style scoped>\n",
       "    .dataframe tbody tr th:only-of-type {\n",
       "        vertical-align: middle;\n",
       "    }\n",
       "\n",
       "    .dataframe tbody tr th {\n",
       "        vertical-align: top;\n",
       "    }\n",
       "\n",
       "    .dataframe thead th {\n",
       "        text-align: right;\n",
       "    }\n",
       "</style>\n",
       "<table border=\"1\" class=\"dataframe\">\n",
       "  <thead>\n",
       "    <tr style=\"text-align: right;\">\n",
       "      <th></th>\n",
       "      <th>0</th>\n",
       "      <th>1</th>\n",
       "      <th>2</th>\n",
       "      <th>3</th>\n",
       "      <th>4</th>\n",
       "      <th>5</th>\n",
       "      <th>6</th>\n",
       "      <th>7</th>\n",
       "      <th>8</th>\n",
       "      <th>9</th>\n",
       "      <th>...</th>\n",
       "      <th>1276</th>\n",
       "      <th>1277</th>\n",
       "      <th>1278</th>\n",
       "      <th>1279</th>\n",
       "      <th>1280</th>\n",
       "      <th>1281</th>\n",
       "      <th>1282</th>\n",
       "      <th>1283</th>\n",
       "      <th>1284</th>\n",
       "      <th>1285</th>\n",
       "    </tr>\n",
       "  </thead>\n",
       "  <tbody>\n",
       "    <tr>\n",
       "      <th>ï»¿Nome</th>\n",
       "      <td>Elizeu</td>\n",
       "      <td>Andrew</td>\n",
       "      <td>Andrew</td>\n",
       "      <td>Paloma</td>\n",
       "      <td>Iago</td>\n",
       "      <td>Paloma</td>\n",
       "      <td>Patricia</td>\n",
       "      <td>Maryanna</td>\n",
       "      <td>Joyce</td>\n",
       "      <td>Andrew</td>\n",
       "      <td>...</td>\n",
       "      <td>Andrew</td>\n",
       "      <td>Izabel</td>\n",
       "      <td>Jucelia</td>\n",
       "      <td>Paloma</td>\n",
       "      <td>Iago</td>\n",
       "      <td>Izabel</td>\n",
       "      <td>Joyce</td>\n",
       "      <td>Jucelia</td>\n",
       "      <td>Maryanna</td>\n",
       "      <td>Eduarda</td>\n",
       "    </tr>\n",
       "    <tr>\n",
       "      <th>Sobrenome</th>\n",
       "      <td>Barros</td>\n",
       "      <td>Carvalhal</td>\n",
       "      <td>Carvalhal</td>\n",
       "      <td>Farias</td>\n",
       "      <td>Bensdorp</td>\n",
       "      <td>Farias</td>\n",
       "      <td>Camara</td>\n",
       "      <td>Correa</td>\n",
       "      <td>Ribas</td>\n",
       "      <td>Carvalhal</td>\n",
       "      <td>...</td>\n",
       "      <td>Carvalhal</td>\n",
       "      <td>Milagre</td>\n",
       "      <td>Bailly</td>\n",
       "      <td>Farias</td>\n",
       "      <td>Bensdorp</td>\n",
       "      <td>Milagre</td>\n",
       "      <td>Ribas</td>\n",
       "      <td>Bailly</td>\n",
       "      <td>Correa</td>\n",
       "      <td>Figueiredo</td>\n",
       "    </tr>\n",
       "    <tr>\n",
       "      <th>Data de Nascimento</th>\n",
       "      <td>16/12/1993</td>\n",
       "      <td>18/07/1992</td>\n",
       "      <td>12/02/1985</td>\n",
       "      <td>29/03/1989</td>\n",
       "      <td>11/12/1989</td>\n",
       "      <td>22/12/1993</td>\n",
       "      <td>10/09/1991</td>\n",
       "      <td>06/05/1988</td>\n",
       "      <td>02/08/1985</td>\n",
       "      <td>15/12/1986</td>\n",
       "      <td>...</td>\n",
       "      <td>28/02/1986</td>\n",
       "      <td>09/01/1985</td>\n",
       "      <td>30/11/1988</td>\n",
       "      <td>29/01/1990</td>\n",
       "      <td>13/01/1986</td>\n",
       "      <td>21/01/1989</td>\n",
       "      <td>31/03/1985</td>\n",
       "      <td>30/06/1990</td>\n",
       "      <td>29/11/1992</td>\n",
       "      <td>06/05/1992</td>\n",
       "    </tr>\n",
       "    <tr>\n",
       "      <th>Loja</th>\n",
       "      <td>Salvador</td>\n",
       "      <td>BrasÃ­lia</td>\n",
       "      <td>SÃ£o Paulo</td>\n",
       "      <td>Rio de Janeiro</td>\n",
       "      <td>BrasÃ­lia</td>\n",
       "      <td>BrasÃ­lia</td>\n",
       "      <td>SÃ£o Paulo</td>\n",
       "      <td>Porto Alegre</td>\n",
       "      <td>Fortaleza</td>\n",
       "      <td>Rio de Janeiro</td>\n",
       "      <td>...</td>\n",
       "      <td>Curitiba</td>\n",
       "      <td>Curitiba</td>\n",
       "      <td>Rio de Janeiro</td>\n",
       "      <td>Salvador</td>\n",
       "      <td>SÃ£o Paulo</td>\n",
       "      <td>Curitiba</td>\n",
       "      <td>BrasÃ­lia</td>\n",
       "      <td>Rio de Janeiro</td>\n",
       "      <td>Rio de Janeiro</td>\n",
       "      <td>Salvador</td>\n",
       "    </tr>\n",
       "    <tr>\n",
       "      <th>Produto</th>\n",
       "      <td>Casaco</td>\n",
       "      <td>Camiseta</td>\n",
       "      <td>Sapato</td>\n",
       "      <td>Vestido</td>\n",
       "      <td>Vestido</td>\n",
       "      <td>Sapato</td>\n",
       "      <td>SandÃ¡lia</td>\n",
       "      <td>Saia</td>\n",
       "      <td>Saia</td>\n",
       "      <td>Vestido</td>\n",
       "      <td>...</td>\n",
       "      <td>Vestido</td>\n",
       "      <td>Camiseta</td>\n",
       "      <td>Vestido</td>\n",
       "      <td>Vestido</td>\n",
       "      <td>Bermuda</td>\n",
       "      <td>Casaco</td>\n",
       "      <td>Sapato</td>\n",
       "      <td>Sapato</td>\n",
       "      <td>Casaco</td>\n",
       "      <td>Sapato</td>\n",
       "    </tr>\n",
       "  </tbody>\n",
       "</table>\n",
       "<p>5 rows × 1286 columns</p>\n",
       "</div>"
      ],
      "text/plain": [
       "                          0           1           2               3     \\\n",
       "ï»¿Nome                 Elizeu      Andrew      Andrew          Paloma   \n",
       "Sobrenome               Barros   Carvalhal   Carvalhal          Farias   \n",
       "Data de Nascimento  16/12/1993  18/07/1992  12/02/1985      29/03/1989   \n",
       "Loja                  Salvador   BrasÃ­lia  SÃ£o Paulo  Rio de Janeiro   \n",
       "Produto                 Casaco    Camiseta      Sapato         Vestido   \n",
       "\n",
       "                          4           5           6             7     \\\n",
       "ï»¿Nome                   Iago      Paloma    Patricia      Maryanna   \n",
       "Sobrenome             Bensdorp      Farias      Camara        Correa   \n",
       "Data de Nascimento  11/12/1989  22/12/1993  10/09/1991    06/05/1988   \n",
       "Loja                 BrasÃ­lia   BrasÃ­lia  SÃ£o Paulo  Porto Alegre   \n",
       "Produto                Vestido      Sapato   SandÃ¡lia          Saia   \n",
       "\n",
       "                          8               9     ...        1276        1277  \\\n",
       "ï»¿Nome                  Joyce          Andrew  ...      Andrew      Izabel   \n",
       "Sobrenome                Ribas       Carvalhal  ...   Carvalhal     Milagre   \n",
       "Data de Nascimento  02/08/1985      15/12/1986  ...  28/02/1986  09/01/1985   \n",
       "Loja                 Fortaleza  Rio de Janeiro  ...    Curitiba    Curitiba   \n",
       "Produto                   Saia         Vestido  ...     Vestido    Camiseta   \n",
       "\n",
       "                              1278        1279        1280        1281  \\\n",
       "ï»¿Nome                    Jucelia      Paloma        Iago      Izabel   \n",
       "Sobrenome                   Bailly      Farias    Bensdorp     Milagre   \n",
       "Data de Nascimento      30/11/1988  29/01/1990  13/01/1986  21/01/1989   \n",
       "Loja                Rio de Janeiro    Salvador  SÃ£o Paulo    Curitiba   \n",
       "Produto                    Vestido     Vestido     Bermuda      Casaco   \n",
       "\n",
       "                          1282            1283            1284        1285  \n",
       "ï»¿Nome                  Joyce         Jucelia        Maryanna     Eduarda  \n",
       "Sobrenome                Ribas          Bailly          Correa  Figueiredo  \n",
       "Data de Nascimento  31/03/1985      30/06/1990      29/11/1992  06/05/1992  \n",
       "Loja                 BrasÃ­lia  Rio de Janeiro  Rio de Janeiro    Salvador  \n",
       "Produto                 Sapato          Sapato          Casaco      Sapato  \n",
       "\n",
       "[5 rows x 1286 columns]"
      ]
     },
     "execution_count": 3,
     "metadata": {},
     "output_type": "execute_result"
    }
   ],
   "source": [
    "vendas.head()"
   ]
  },
  {
   "cell_type": "code",
   "execution_count": 4,
   "metadata": {},
   "outputs": [],
   "source": [
    "vendas =vendas.transpose()"
   ]
  },
  {
   "cell_type": "code",
   "execution_count": 5,
   "metadata": {},
   "outputs": [
    {
     "data": {
      "text/html": [
       "<div>\n",
       "<style scoped>\n",
       "    .dataframe tbody tr th:only-of-type {\n",
       "        vertical-align: middle;\n",
       "    }\n",
       "\n",
       "    .dataframe tbody tr th {\n",
       "        vertical-align: top;\n",
       "    }\n",
       "\n",
       "    .dataframe thead th {\n",
       "        text-align: right;\n",
       "    }\n",
       "</style>\n",
       "<table border=\"1\" class=\"dataframe\">\n",
       "  <thead>\n",
       "    <tr style=\"text-align: right;\">\n",
       "      <th></th>\n",
       "      <th>ï»¿Nome</th>\n",
       "      <th>Sobrenome</th>\n",
       "      <th>Data de Nascimento</th>\n",
       "      <th>Loja</th>\n",
       "      <th>Produto</th>\n",
       "      <th>Data da Venda</th>\n",
       "      <th>Quantidade Vendida</th>\n",
       "      <th>PreÃ§o do Produto</th>\n",
       "    </tr>\n",
       "  </thead>\n",
       "  <tbody>\n",
       "    <tr>\n",
       "      <th>0</th>\n",
       "      <td>Elizeu</td>\n",
       "      <td>Barros</td>\n",
       "      <td>16/12/1993</td>\n",
       "      <td>Salvador</td>\n",
       "      <td>Casaco</td>\n",
       "      <td>02/01/2018</td>\n",
       "      <td>105</td>\n",
       "      <td>R$150,00</td>\n",
       "    </tr>\n",
       "    <tr>\n",
       "      <th>1</th>\n",
       "      <td>Andrew</td>\n",
       "      <td>Carvalhal</td>\n",
       "      <td>18/07/1992</td>\n",
       "      <td>BrasÃ­lia</td>\n",
       "      <td>Camiseta</td>\n",
       "      <td>02/01/2018</td>\n",
       "      <td>57</td>\n",
       "      <td>R$250,00</td>\n",
       "    </tr>\n",
       "    <tr>\n",
       "      <th>2</th>\n",
       "      <td>Andrew</td>\n",
       "      <td>Carvalhal</td>\n",
       "      <td>12/02/1985</td>\n",
       "      <td>SÃ£o Paulo</td>\n",
       "      <td>Sapato</td>\n",
       "      <td>02/01/2018</td>\n",
       "      <td>44</td>\n",
       "      <td>R$150,00</td>\n",
       "    </tr>\n",
       "    <tr>\n",
       "      <th>3</th>\n",
       "      <td>Paloma</td>\n",
       "      <td>Farias</td>\n",
       "      <td>29/03/1989</td>\n",
       "      <td>Rio de Janeiro</td>\n",
       "      <td>Vestido</td>\n",
       "      <td>02/01/2018</td>\n",
       "      <td>55</td>\n",
       "      <td>R$55,00</td>\n",
       "    </tr>\n",
       "    <tr>\n",
       "      <th>4</th>\n",
       "      <td>Iago</td>\n",
       "      <td>Bensdorp</td>\n",
       "      <td>11/12/1989</td>\n",
       "      <td>BrasÃ­lia</td>\n",
       "      <td>Vestido</td>\n",
       "      <td>02/01/2018</td>\n",
       "      <td>7</td>\n",
       "      <td>R$75,00</td>\n",
       "    </tr>\n",
       "    <tr>\n",
       "      <th>...</th>\n",
       "      <td>...</td>\n",
       "      <td>...</td>\n",
       "      <td>...</td>\n",
       "      <td>...</td>\n",
       "      <td>...</td>\n",
       "      <td>...</td>\n",
       "      <td>...</td>\n",
       "      <td>...</td>\n",
       "    </tr>\n",
       "    <tr>\n",
       "      <th>1281</th>\n",
       "      <td>Izabel</td>\n",
       "      <td>Milagre</td>\n",
       "      <td>21/01/1989</td>\n",
       "      <td>Curitiba</td>\n",
       "      <td>Casaco</td>\n",
       "      <td>30/12/2018</td>\n",
       "      <td>88</td>\n",
       "      <td>R$230,00</td>\n",
       "    </tr>\n",
       "    <tr>\n",
       "      <th>1282</th>\n",
       "      <td>Joyce</td>\n",
       "      <td>Ribas</td>\n",
       "      <td>31/03/1985</td>\n",
       "      <td>BrasÃ­lia</td>\n",
       "      <td>Sapato</td>\n",
       "      <td>30/12/2018</td>\n",
       "      <td>121</td>\n",
       "      <td>R$85,00</td>\n",
       "    </tr>\n",
       "    <tr>\n",
       "      <th>1283</th>\n",
       "      <td>Jucelia</td>\n",
       "      <td>Bailly</td>\n",
       "      <td>30/06/1990</td>\n",
       "      <td>Rio de Janeiro</td>\n",
       "      <td>Sapato</td>\n",
       "      <td>30/12/2018</td>\n",
       "      <td>61</td>\n",
       "      <td>R$25,00</td>\n",
       "    </tr>\n",
       "    <tr>\n",
       "      <th>1284</th>\n",
       "      <td>Maryanna</td>\n",
       "      <td>Correa</td>\n",
       "      <td>29/11/1992</td>\n",
       "      <td>Rio de Janeiro</td>\n",
       "      <td>Casaco</td>\n",
       "      <td>30/12/2018</td>\n",
       "      <td>28</td>\n",
       "      <td>R$30,00</td>\n",
       "    </tr>\n",
       "    <tr>\n",
       "      <th>1285</th>\n",
       "      <td>Eduarda</td>\n",
       "      <td>Figueiredo</td>\n",
       "      <td>06/05/1992</td>\n",
       "      <td>Salvador</td>\n",
       "      <td>Sapato</td>\n",
       "      <td>31/12/2018</td>\n",
       "      <td>31</td>\n",
       "      <td>R$30,00</td>\n",
       "    </tr>\n",
       "  </tbody>\n",
       "</table>\n",
       "<p>1286 rows × 8 columns</p>\n",
       "</div>"
      ],
      "text/plain": [
       "       ï»¿Nome   Sobrenome Data de Nascimento            Loja   Produto  \\\n",
       "0       Elizeu      Barros         16/12/1993        Salvador    Casaco   \n",
       "1       Andrew   Carvalhal         18/07/1992       BrasÃ­lia  Camiseta   \n",
       "2       Andrew   Carvalhal         12/02/1985      SÃ£o Paulo    Sapato   \n",
       "3       Paloma      Farias         29/03/1989  Rio de Janeiro   Vestido   \n",
       "4         Iago    Bensdorp         11/12/1989       BrasÃ­lia   Vestido   \n",
       "...        ...         ...                ...             ...       ...   \n",
       "1281    Izabel     Milagre         21/01/1989        Curitiba    Casaco   \n",
       "1282     Joyce       Ribas         31/03/1985       BrasÃ­lia    Sapato   \n",
       "1283   Jucelia      Bailly         30/06/1990  Rio de Janeiro    Sapato   \n",
       "1284  Maryanna      Correa         29/11/1992  Rio de Janeiro    Casaco   \n",
       "1285   Eduarda  Figueiredo         06/05/1992        Salvador    Sapato   \n",
       "\n",
       "     Data da Venda Quantidade Vendida PreÃ§o do Produto  \n",
       "0       02/01/2018                105         R$150,00   \n",
       "1       02/01/2018                 57         R$250,00   \n",
       "2       02/01/2018                 44         R$150,00   \n",
       "3       02/01/2018                 55          R$55,00   \n",
       "4       02/01/2018                  7          R$75,00   \n",
       "...            ...                ...               ...  \n",
       "1281    30/12/2018                 88         R$230,00   \n",
       "1282    30/12/2018                121          R$85,00   \n",
       "1283    30/12/2018                 61          R$25,00   \n",
       "1284    30/12/2018                 28          R$30,00   \n",
       "1285    31/12/2018                 31          R$30,00   \n",
       "\n",
       "[1286 rows x 8 columns]"
      ]
     },
     "execution_count": 5,
     "metadata": {},
     "output_type": "execute_result"
    }
   ],
   "source": [
    "vendas"
   ]
  },
  {
   "cell_type": "code",
   "execution_count": 6,
   "metadata": {
    "scrolled": true
   },
   "outputs": [],
   "source": [
    "vendas.columns = ['Nome','Sobrenome', 'Data de Nascimento', 'Loja','Produto', 'Data da Venda', 'Quantidade Vendida', 'Preco']"
   ]
  },
  {
   "cell_type": "code",
   "execution_count": 7,
   "metadata": {},
   "outputs": [
    {
     "data": {
      "text/plain": [
       "Index(['Nome', 'Sobrenome', 'Data de Nascimento', 'Loja', 'Produto',\n",
       "       'Data da Venda', 'Quantidade Vendida', 'Preco'],\n",
       "      dtype='object')"
      ]
     },
     "execution_count": 7,
     "metadata": {},
     "output_type": "execute_result"
    }
   ],
   "source": [
    "vendas.columns"
   ]
  },
  {
   "cell_type": "code",
   "execution_count": 8,
   "metadata": {},
   "outputs": [
    {
     "data": {
      "text/html": [
       "<div>\n",
       "<style scoped>\n",
       "    .dataframe tbody tr th:only-of-type {\n",
       "        vertical-align: middle;\n",
       "    }\n",
       "\n",
       "    .dataframe tbody tr th {\n",
       "        vertical-align: top;\n",
       "    }\n",
       "\n",
       "    .dataframe thead th {\n",
       "        text-align: right;\n",
       "    }\n",
       "</style>\n",
       "<table border=\"1\" class=\"dataframe\">\n",
       "  <thead>\n",
       "    <tr style=\"text-align: right;\">\n",
       "      <th></th>\n",
       "      <th>Nome</th>\n",
       "      <th>Sobrenome</th>\n",
       "      <th>Data de Nascimento</th>\n",
       "      <th>Loja</th>\n",
       "      <th>Produto</th>\n",
       "      <th>Data da Venda</th>\n",
       "      <th>Quantidade Vendida</th>\n",
       "      <th>Preco</th>\n",
       "    </tr>\n",
       "  </thead>\n",
       "  <tbody>\n",
       "    <tr>\n",
       "      <th>0</th>\n",
       "      <td>Elizeu</td>\n",
       "      <td>Barros</td>\n",
       "      <td>16/12/1993</td>\n",
       "      <td>Salvador</td>\n",
       "      <td>Casaco</td>\n",
       "      <td>02/01/2018</td>\n",
       "      <td>105</td>\n",
       "      <td>R$150,00</td>\n",
       "    </tr>\n",
       "    <tr>\n",
       "      <th>1</th>\n",
       "      <td>Andrew</td>\n",
       "      <td>Carvalhal</td>\n",
       "      <td>18/07/1992</td>\n",
       "      <td>BrasÃ­lia</td>\n",
       "      <td>Camiseta</td>\n",
       "      <td>02/01/2018</td>\n",
       "      <td>57</td>\n",
       "      <td>R$250,00</td>\n",
       "    </tr>\n",
       "    <tr>\n",
       "      <th>2</th>\n",
       "      <td>Andrew</td>\n",
       "      <td>Carvalhal</td>\n",
       "      <td>12/02/1985</td>\n",
       "      <td>SÃ£o Paulo</td>\n",
       "      <td>Sapato</td>\n",
       "      <td>02/01/2018</td>\n",
       "      <td>44</td>\n",
       "      <td>R$150,00</td>\n",
       "    </tr>\n",
       "    <tr>\n",
       "      <th>3</th>\n",
       "      <td>Paloma</td>\n",
       "      <td>Farias</td>\n",
       "      <td>29/03/1989</td>\n",
       "      <td>Rio de Janeiro</td>\n",
       "      <td>Vestido</td>\n",
       "      <td>02/01/2018</td>\n",
       "      <td>55</td>\n",
       "      <td>R$55,00</td>\n",
       "    </tr>\n",
       "    <tr>\n",
       "      <th>4</th>\n",
       "      <td>Iago</td>\n",
       "      <td>Bensdorp</td>\n",
       "      <td>11/12/1989</td>\n",
       "      <td>BrasÃ­lia</td>\n",
       "      <td>Vestido</td>\n",
       "      <td>02/01/2018</td>\n",
       "      <td>7</td>\n",
       "      <td>R$75,00</td>\n",
       "    </tr>\n",
       "  </tbody>\n",
       "</table>\n",
       "</div>"
      ],
      "text/plain": [
       "     Nome  Sobrenome Data de Nascimento            Loja   Produto  \\\n",
       "0  Elizeu     Barros         16/12/1993        Salvador    Casaco   \n",
       "1  Andrew  Carvalhal         18/07/1992       BrasÃ­lia  Camiseta   \n",
       "2  Andrew  Carvalhal         12/02/1985      SÃ£o Paulo    Sapato   \n",
       "3  Paloma     Farias         29/03/1989  Rio de Janeiro   Vestido   \n",
       "4    Iago   Bensdorp         11/12/1989       BrasÃ­lia   Vestido   \n",
       "\n",
       "  Data da Venda Quantidade Vendida       Preco  \n",
       "0    02/01/2018                105   R$150,00   \n",
       "1    02/01/2018                 57   R$250,00   \n",
       "2    02/01/2018                 44   R$150,00   \n",
       "3    02/01/2018                 55    R$55,00   \n",
       "4    02/01/2018                  7    R$75,00   "
      ]
     },
     "execution_count": 8,
     "metadata": {},
     "output_type": "execute_result"
    }
   ],
   "source": [
    "vendas.head()"
   ]
  },
  {
   "cell_type": "code",
   "execution_count": 9,
   "metadata": {},
   "outputs": [
    {
     "name": "stdout",
     "output_type": "stream",
     "text": [
      "<class 'pandas.core.frame.DataFrame'>\n",
      "RangeIndex: 1286 entries, 0 to 1285\n",
      "Data columns (total 8 columns):\n",
      " #   Column              Non-Null Count  Dtype \n",
      "---  ------              --------------  ----- \n",
      " 0   Nome                1286 non-null   object\n",
      " 1   Sobrenome           1286 non-null   object\n",
      " 2   Data de Nascimento  1286 non-null   object\n",
      " 3   Loja                1286 non-null   object\n",
      " 4   Produto             1286 non-null   object\n",
      " 5   Data da Venda       1286 non-null   object\n",
      " 6   Quantidade Vendida  1286 non-null   object\n",
      " 7   Preco               1286 non-null   object\n",
      "dtypes: object(8)\n",
      "memory usage: 80.5+ KB\n"
     ]
    }
   ],
   "source": [
    "vendas.info()"
   ]
  },
  {
   "cell_type": "code",
   "execution_count": 10,
   "metadata": {},
   "outputs": [],
   "source": [
    "vendas['Preco']= vendas['Preco'].str.strip('R$')"
   ]
  },
  {
   "cell_type": "code",
   "execution_count": 11,
   "metadata": {},
   "outputs": [],
   "source": [
    "vendas['Preco'] = vendas['Preco'].str.replace('R','')"
   ]
  },
  {
   "cell_type": "code",
   "execution_count": 12,
   "metadata": {},
   "outputs": [],
   "source": [
    "vendas['Preco'] = vendas['Preco'].str.replace('$','')"
   ]
  },
  {
   "cell_type": "code",
   "execution_count": 13,
   "metadata": {},
   "outputs": [],
   "source": [
    "vendas['Preco'] = vendas['Preco'].str.replace(',00','')"
   ]
  },
  {
   "cell_type": "code",
   "execution_count": 14,
   "metadata": {},
   "outputs": [],
   "source": [
    "vendas['Preco'] = vendas['Preco'].astype(int)"
   ]
  },
  {
   "cell_type": "code",
   "execution_count": 15,
   "metadata": {},
   "outputs": [
    {
     "name": "stdout",
     "output_type": "stream",
     "text": [
      "<class 'pandas.core.frame.DataFrame'>\n",
      "RangeIndex: 1286 entries, 0 to 1285\n",
      "Data columns (total 8 columns):\n",
      " #   Column              Non-Null Count  Dtype \n",
      "---  ------              --------------  ----- \n",
      " 0   Nome                1286 non-null   object\n",
      " 1   Sobrenome           1286 non-null   object\n",
      " 2   Data de Nascimento  1286 non-null   object\n",
      " 3   Loja                1286 non-null   object\n",
      " 4   Produto             1286 non-null   object\n",
      " 5   Data da Venda       1286 non-null   object\n",
      " 6   Quantidade Vendida  1286 non-null   object\n",
      " 7   Preco               1286 non-null   int32 \n",
      "dtypes: int32(1), object(7)\n",
      "memory usage: 75.5+ KB\n"
     ]
    }
   ],
   "source": [
    "vendas.info()"
   ]
  },
  {
   "cell_type": "code",
   "execution_count": 16,
   "metadata": {},
   "outputs": [],
   "source": [
    "vendas['Quantidade Vendida']= vendas['Quantidade Vendida'].astype(int)"
   ]
  },
  {
   "cell_type": "code",
   "execution_count": 17,
   "metadata": {},
   "outputs": [
    {
     "name": "stdout",
     "output_type": "stream",
     "text": [
      "<class 'pandas.core.frame.DataFrame'>\n",
      "RangeIndex: 1286 entries, 0 to 1285\n",
      "Data columns (total 8 columns):\n",
      " #   Column              Non-Null Count  Dtype \n",
      "---  ------              --------------  ----- \n",
      " 0   Nome                1286 non-null   object\n",
      " 1   Sobrenome           1286 non-null   object\n",
      " 2   Data de Nascimento  1286 non-null   object\n",
      " 3   Loja                1286 non-null   object\n",
      " 4   Produto             1286 non-null   object\n",
      " 5   Data da Venda       1286 non-null   object\n",
      " 6   Quantidade Vendida  1286 non-null   int32 \n",
      " 7   Preco               1286 non-null   int32 \n",
      "dtypes: int32(2), object(6)\n",
      "memory usage: 70.5+ KB\n"
     ]
    }
   ],
   "source": [
    "vendas.info()"
   ]
  },
  {
   "cell_type": "code",
   "execution_count": 18,
   "metadata": {},
   "outputs": [],
   "source": [
    "import plotly.express as px"
   ]
  },
  {
   "cell_type": "code",
   "execution_count": 19,
   "metadata": {},
   "outputs": [],
   "source": [
    "from datetime import date as dt"
   ]
  },
  {
   "cell_type": "code",
   "execution_count": 20,
   "metadata": {},
   "outputs": [],
   "source": [
    "vendas = vendas.rename(columns = {'Data da Venda':'Data'})"
   ]
  },
  {
   "cell_type": "code",
   "execution_count": 21,
   "metadata": {},
   "outputs": [
    {
     "data": {
      "text/plain": [
       "Index(['Nome', 'Sobrenome', 'Data de Nascimento', 'Loja', 'Produto', 'Data',\n",
       "       'Quantidade Vendida', 'Preco'],\n",
       "      dtype='object')"
      ]
     },
     "execution_count": 21,
     "metadata": {},
     "output_type": "execute_result"
    }
   ],
   "source": [
    "vendas.columns"
   ]
  },
  {
   "cell_type": "code",
   "execution_count": 22,
   "metadata": {},
   "outputs": [],
   "source": [
    "vendas['Data'] =pd.to_datetime(vendas['Data'])"
   ]
  },
  {
   "cell_type": "code",
   "execution_count": 23,
   "metadata": {},
   "outputs": [
    {
     "data": {
      "text/plain": [
       "Timestamp('2018-12-31 00:00:00')"
      ]
     },
     "execution_count": 23,
     "metadata": {},
     "output_type": "execute_result"
    }
   ],
   "source": [
    "max(vendas['Data'])"
   ]
  },
  {
   "cell_type": "code",
   "execution_count": 24,
   "metadata": {},
   "outputs": [
    {
     "name": "stdout",
     "output_type": "stream",
     "text": [
      "<class 'pandas.core.frame.DataFrame'>\n",
      "RangeIndex: 1286 entries, 0 to 1285\n",
      "Data columns (total 8 columns):\n",
      " #   Column              Non-Null Count  Dtype         \n",
      "---  ------              --------------  -----         \n",
      " 0   Nome                1286 non-null   object        \n",
      " 1   Sobrenome           1286 non-null   object        \n",
      " 2   Data de Nascimento  1286 non-null   object        \n",
      " 3   Loja                1286 non-null   object        \n",
      " 4   Produto             1286 non-null   object        \n",
      " 5   Data                1286 non-null   datetime64[ns]\n",
      " 6   Quantidade Vendida  1286 non-null   int32         \n",
      " 7   Preco               1286 non-null   int32         \n",
      "dtypes: datetime64[ns](1), int32(2), object(5)\n",
      "memory usage: 70.5+ KB\n"
     ]
    }
   ],
   "source": [
    "vendas.info()"
   ]
  },
  {
   "cell_type": "code",
   "execution_count": 25,
   "metadata": {},
   "outputs": [],
   "source": [
    "vendas['Faturamento']= vendas['Quantidade Vendida'] * vendas['Preco']"
   ]
  },
  {
   "cell_type": "code",
   "execution_count": 26,
   "metadata": {},
   "outputs": [
    {
     "data": {
      "text/html": [
       "<div>\n",
       "<style scoped>\n",
       "    .dataframe tbody tr th:only-of-type {\n",
       "        vertical-align: middle;\n",
       "    }\n",
       "\n",
       "    .dataframe tbody tr th {\n",
       "        vertical-align: top;\n",
       "    }\n",
       "\n",
       "    .dataframe thead th {\n",
       "        text-align: right;\n",
       "    }\n",
       "</style>\n",
       "<table border=\"1\" class=\"dataframe\">\n",
       "  <thead>\n",
       "    <tr style=\"text-align: right;\">\n",
       "      <th></th>\n",
       "      <th>Nome</th>\n",
       "      <th>Sobrenome</th>\n",
       "      <th>Data de Nascimento</th>\n",
       "      <th>Loja</th>\n",
       "      <th>Produto</th>\n",
       "      <th>Data</th>\n",
       "      <th>Quantidade Vendida</th>\n",
       "      <th>Preco</th>\n",
       "      <th>Faturamento</th>\n",
       "    </tr>\n",
       "  </thead>\n",
       "  <tbody>\n",
       "    <tr>\n",
       "      <th>0</th>\n",
       "      <td>Elizeu</td>\n",
       "      <td>Barros</td>\n",
       "      <td>16/12/1993</td>\n",
       "      <td>Salvador</td>\n",
       "      <td>Casaco</td>\n",
       "      <td>2018-02-01</td>\n",
       "      <td>105</td>\n",
       "      <td>150</td>\n",
       "      <td>15750</td>\n",
       "    </tr>\n",
       "    <tr>\n",
       "      <th>1</th>\n",
       "      <td>Andrew</td>\n",
       "      <td>Carvalhal</td>\n",
       "      <td>18/07/1992</td>\n",
       "      <td>BrasÃ­lia</td>\n",
       "      <td>Camiseta</td>\n",
       "      <td>2018-02-01</td>\n",
       "      <td>57</td>\n",
       "      <td>250</td>\n",
       "      <td>14250</td>\n",
       "    </tr>\n",
       "    <tr>\n",
       "      <th>2</th>\n",
       "      <td>Andrew</td>\n",
       "      <td>Carvalhal</td>\n",
       "      <td>12/02/1985</td>\n",
       "      <td>SÃ£o Paulo</td>\n",
       "      <td>Sapato</td>\n",
       "      <td>2018-02-01</td>\n",
       "      <td>44</td>\n",
       "      <td>150</td>\n",
       "      <td>6600</td>\n",
       "    </tr>\n",
       "    <tr>\n",
       "      <th>3</th>\n",
       "      <td>Paloma</td>\n",
       "      <td>Farias</td>\n",
       "      <td>29/03/1989</td>\n",
       "      <td>Rio de Janeiro</td>\n",
       "      <td>Vestido</td>\n",
       "      <td>2018-02-01</td>\n",
       "      <td>55</td>\n",
       "      <td>55</td>\n",
       "      <td>3025</td>\n",
       "    </tr>\n",
       "    <tr>\n",
       "      <th>4</th>\n",
       "      <td>Iago</td>\n",
       "      <td>Bensdorp</td>\n",
       "      <td>11/12/1989</td>\n",
       "      <td>BrasÃ­lia</td>\n",
       "      <td>Vestido</td>\n",
       "      <td>2018-02-01</td>\n",
       "      <td>7</td>\n",
       "      <td>75</td>\n",
       "      <td>525</td>\n",
       "    </tr>\n",
       "  </tbody>\n",
       "</table>\n",
       "</div>"
      ],
      "text/plain": [
       "     Nome  Sobrenome Data de Nascimento            Loja   Produto       Data  \\\n",
       "0  Elizeu     Barros         16/12/1993        Salvador    Casaco 2018-02-01   \n",
       "1  Andrew  Carvalhal         18/07/1992       BrasÃ­lia  Camiseta 2018-02-01   \n",
       "2  Andrew  Carvalhal         12/02/1985      SÃ£o Paulo    Sapato 2018-02-01   \n",
       "3  Paloma     Farias         29/03/1989  Rio de Janeiro   Vestido 2018-02-01   \n",
       "4    Iago   Bensdorp         11/12/1989       BrasÃ­lia   Vestido 2018-02-01   \n",
       "\n",
       "   Quantidade Vendida  Preco  Faturamento  \n",
       "0                 105    150        15750  \n",
       "1                  57    250        14250  \n",
       "2                  44    150         6600  \n",
       "3                  55     55         3025  \n",
       "4                   7     75          525  "
      ]
     },
     "execution_count": 26,
     "metadata": {},
     "output_type": "execute_result"
    }
   ],
   "source": [
    "vendas.head()"
   ]
  },
  {
   "cell_type": "code",
   "execution_count": 27,
   "metadata": {},
   "outputs": [
    {
     "data": {
      "text/plain": [
       "array(['Salvador', 'BrasÃ\\xadlia', 'SÃ£o Paulo', 'Rio de Janeiro',\n",
       "       'Porto Alegre', 'Fortaleza', 'Curitiba'], dtype=object)"
      ]
     },
     "execution_count": 27,
     "metadata": {},
     "output_type": "execute_result"
    }
   ],
   "source": [
    "vendas['Loja'].unique()"
   ]
  },
  {
   "cell_type": "code",
   "execution_count": 28,
   "metadata": {},
   "outputs": [],
   "source": [
    "vendas['Loja']=vendas['Loja'].str.replace('BrasÃ\\xadlia','Brasilia')"
   ]
  },
  {
   "cell_type": "code",
   "execution_count": 29,
   "metadata": {},
   "outputs": [],
   "source": [
    "vendas['Loja']=vendas['Loja'].str.replace('SÃ£o Paulo','Sao Paulo')"
   ]
  },
  {
   "cell_type": "code",
   "execution_count": 30,
   "metadata": {},
   "outputs": [
    {
     "data": {
      "text/plain": [
       "array(['Salvador', 'Brasilia', 'Sao Paulo', 'Rio de Janeiro',\n",
       "       'Porto Alegre', 'Fortaleza', 'Curitiba'], dtype=object)"
      ]
     },
     "execution_count": 30,
     "metadata": {},
     "output_type": "execute_result"
    }
   ],
   "source": [
    "vendas['Loja'].unique()"
   ]
  },
  {
   "cell_type": "code",
   "execution_count": 31,
   "metadata": {},
   "outputs": [
    {
     "name": "stdout",
     "output_type": "stream",
     "text": [
      "<class 'pandas.core.frame.DataFrame'>\n",
      "RangeIndex: 1286 entries, 0 to 1285\n",
      "Data columns (total 9 columns):\n",
      " #   Column              Non-Null Count  Dtype         \n",
      "---  ------              --------------  -----         \n",
      " 0   Nome                1286 non-null   object        \n",
      " 1   Sobrenome           1286 non-null   object        \n",
      " 2   Data de Nascimento  1286 non-null   object        \n",
      " 3   Loja                1286 non-null   object        \n",
      " 4   Produto             1286 non-null   object        \n",
      " 5   Data                1286 non-null   datetime64[ns]\n",
      " 6   Quantidade Vendida  1286 non-null   int32         \n",
      " 7   Preco               1286 non-null   int32         \n",
      " 8   Faturamento         1286 non-null   int32         \n",
      "dtypes: datetime64[ns](1), int32(3), object(5)\n",
      "memory usage: 75.5+ KB\n"
     ]
    }
   ],
   "source": [
    "vendas.info()"
   ]
  },
  {
   "cell_type": "code",
   "execution_count": 32,
   "metadata": {},
   "outputs": [],
   "source": [
    "vendas['Mes_Vendas'] = vendas['Data'].dt.month"
   ]
  },
  {
   "cell_type": "code",
   "execution_count": 33,
   "metadata": {},
   "outputs": [
    {
     "name": "stdout",
     "output_type": "stream",
     "text": [
      "<class 'pandas.core.frame.DataFrame'>\n",
      "RangeIndex: 1286 entries, 0 to 1285\n",
      "Data columns (total 10 columns):\n",
      " #   Column              Non-Null Count  Dtype         \n",
      "---  ------              --------------  -----         \n",
      " 0   Nome                1286 non-null   object        \n",
      " 1   Sobrenome           1286 non-null   object        \n",
      " 2   Data de Nascimento  1286 non-null   object        \n",
      " 3   Loja                1286 non-null   object        \n",
      " 4   Produto             1286 non-null   object        \n",
      " 5   Data                1286 non-null   datetime64[ns]\n",
      " 6   Quantidade Vendida  1286 non-null   int32         \n",
      " 7   Preco               1286 non-null   int32         \n",
      " 8   Faturamento         1286 non-null   int32         \n",
      " 9   Mes_Vendas          1286 non-null   int64         \n",
      "dtypes: datetime64[ns](1), int32(3), int64(1), object(5)\n",
      "memory usage: 85.5+ KB\n"
     ]
    }
   ],
   "source": [
    "vendas.info()"
   ]
  },
  {
   "cell_type": "code",
   "execution_count": 34,
   "metadata": {},
   "outputs": [],
   "source": [
    "vendas['Produto']= vendas['Produto'].str.replace('SandÃ¡lia','Sandalia')"
   ]
  },
  {
   "cell_type": "code",
   "execution_count": 35,
   "metadata": {},
   "outputs": [],
   "source": [
    "vendas['Produto']= vendas['Produto'].str.replace('TÃªnis','Tenis')"
   ]
  },
  {
   "cell_type": "code",
   "execution_count": 36,
   "metadata": {},
   "outputs": [
    {
     "data": {
      "text/plain": [
       "array(['Casaco', 'Camiseta', 'Sapato', 'Vestido', 'Sandalia', 'Saia',\n",
       "       'Bermuda', 'Pulseira', 'Jaqueta', 'Tenis', 'Short', 'Chinelo'],\n",
       "      dtype=object)"
      ]
     },
     "execution_count": 36,
     "metadata": {},
     "output_type": "execute_result"
    }
   ],
   "source": [
    "vendas['Produto'].unique()"
   ]
  },
  {
   "cell_type": "code",
   "execution_count": 37,
   "metadata": {},
   "outputs": [
    {
     "name": "stdout",
     "output_type": "stream",
     "text": [
      "<class 'pandas.core.frame.DataFrame'>\n",
      "RangeIndex: 1286 entries, 0 to 1285\n",
      "Data columns (total 10 columns):\n",
      " #   Column              Non-Null Count  Dtype         \n",
      "---  ------              --------------  -----         \n",
      " 0   Nome                1286 non-null   object        \n",
      " 1   Sobrenome           1286 non-null   object        \n",
      " 2   Data de Nascimento  1286 non-null   object        \n",
      " 3   Loja                1286 non-null   object        \n",
      " 4   Produto             1286 non-null   object        \n",
      " 5   Data                1286 non-null   datetime64[ns]\n",
      " 6   Quantidade Vendida  1286 non-null   int32         \n",
      " 7   Preco               1286 non-null   int32         \n",
      " 8   Faturamento         1286 non-null   int32         \n",
      " 9   Mes_Vendas          1286 non-null   int64         \n",
      "dtypes: datetime64[ns](1), int32(3), int64(1), object(5)\n",
      "memory usage: 85.5+ KB\n"
     ]
    }
   ],
   "source": [
    "vendas.info()"
   ]
  },
  {
   "cell_type": "code",
   "execution_count": 38,
   "metadata": {},
   "outputs": [
    {
     "data": {
      "text/html": [
       "<div>\n",
       "<style scoped>\n",
       "    .dataframe tbody tr th:only-of-type {\n",
       "        vertical-align: middle;\n",
       "    }\n",
       "\n",
       "    .dataframe tbody tr th {\n",
       "        vertical-align: top;\n",
       "    }\n",
       "\n",
       "    .dataframe thead th {\n",
       "        text-align: right;\n",
       "    }\n",
       "</style>\n",
       "<table border=\"1\" class=\"dataframe\">\n",
       "  <thead>\n",
       "    <tr style=\"text-align: right;\">\n",
       "      <th></th>\n",
       "      <th>Nome</th>\n",
       "      <th>Sobrenome</th>\n",
       "      <th>Data de Nascimento</th>\n",
       "      <th>Loja</th>\n",
       "      <th>Produto</th>\n",
       "      <th>Data</th>\n",
       "      <th>Quantidade Vendida</th>\n",
       "      <th>Preco</th>\n",
       "      <th>Faturamento</th>\n",
       "      <th>Mes_Vendas</th>\n",
       "    </tr>\n",
       "  </thead>\n",
       "  <tbody>\n",
       "    <tr>\n",
       "      <th>0</th>\n",
       "      <td>Elizeu</td>\n",
       "      <td>Barros</td>\n",
       "      <td>16/12/1993</td>\n",
       "      <td>Salvador</td>\n",
       "      <td>Casaco</td>\n",
       "      <td>2018-02-01</td>\n",
       "      <td>105</td>\n",
       "      <td>150</td>\n",
       "      <td>15750</td>\n",
       "      <td>2</td>\n",
       "    </tr>\n",
       "    <tr>\n",
       "      <th>1</th>\n",
       "      <td>Andrew</td>\n",
       "      <td>Carvalhal</td>\n",
       "      <td>18/07/1992</td>\n",
       "      <td>Brasilia</td>\n",
       "      <td>Camiseta</td>\n",
       "      <td>2018-02-01</td>\n",
       "      <td>57</td>\n",
       "      <td>250</td>\n",
       "      <td>14250</td>\n",
       "      <td>2</td>\n",
       "    </tr>\n",
       "    <tr>\n",
       "      <th>2</th>\n",
       "      <td>Andrew</td>\n",
       "      <td>Carvalhal</td>\n",
       "      <td>12/02/1985</td>\n",
       "      <td>Sao Paulo</td>\n",
       "      <td>Sapato</td>\n",
       "      <td>2018-02-01</td>\n",
       "      <td>44</td>\n",
       "      <td>150</td>\n",
       "      <td>6600</td>\n",
       "      <td>2</td>\n",
       "    </tr>\n",
       "    <tr>\n",
       "      <th>3</th>\n",
       "      <td>Paloma</td>\n",
       "      <td>Farias</td>\n",
       "      <td>29/03/1989</td>\n",
       "      <td>Rio de Janeiro</td>\n",
       "      <td>Vestido</td>\n",
       "      <td>2018-02-01</td>\n",
       "      <td>55</td>\n",
       "      <td>55</td>\n",
       "      <td>3025</td>\n",
       "      <td>2</td>\n",
       "    </tr>\n",
       "    <tr>\n",
       "      <th>4</th>\n",
       "      <td>Iago</td>\n",
       "      <td>Bensdorp</td>\n",
       "      <td>11/12/1989</td>\n",
       "      <td>Brasilia</td>\n",
       "      <td>Vestido</td>\n",
       "      <td>2018-02-01</td>\n",
       "      <td>7</td>\n",
       "      <td>75</td>\n",
       "      <td>525</td>\n",
       "      <td>2</td>\n",
       "    </tr>\n",
       "  </tbody>\n",
       "</table>\n",
       "</div>"
      ],
      "text/plain": [
       "     Nome  Sobrenome Data de Nascimento            Loja   Produto       Data  \\\n",
       "0  Elizeu     Barros         16/12/1993        Salvador    Casaco 2018-02-01   \n",
       "1  Andrew  Carvalhal         18/07/1992        Brasilia  Camiseta 2018-02-01   \n",
       "2  Andrew  Carvalhal         12/02/1985       Sao Paulo    Sapato 2018-02-01   \n",
       "3  Paloma     Farias         29/03/1989  Rio de Janeiro   Vestido 2018-02-01   \n",
       "4    Iago   Bensdorp         11/12/1989        Brasilia   Vestido 2018-02-01   \n",
       "\n",
       "   Quantidade Vendida  Preco  Faturamento  Mes_Vendas  \n",
       "0                 105    150        15750           2  \n",
       "1                  57    250        14250           2  \n",
       "2                  44    150         6600           2  \n",
       "3                  55     55         3025           2  \n",
       "4                   7     75          525           2  "
      ]
     },
     "execution_count": 38,
     "metadata": {},
     "output_type": "execute_result"
    }
   ],
   "source": [
    "vendas.head()"
   ]
  },
  {
   "cell_type": "code",
   "execution_count": 39,
   "metadata": {},
   "outputs": [],
   "source": [
    "vendas['Data'] =pd.to_datetime(vendas['Data'])"
   ]
  },
  {
   "cell_type": "code",
   "execution_count": 40,
   "metadata": {},
   "outputs": [],
   "source": [
    "vendas['Data'] = vendas[\"Data\"].dt.strftime(\"%d/%m/%Y\")"
   ]
  },
  {
   "cell_type": "code",
   "execution_count": 41,
   "metadata": {},
   "outputs": [
    {
     "data": {
      "text/html": [
       "<div>\n",
       "<style scoped>\n",
       "    .dataframe tbody tr th:only-of-type {\n",
       "        vertical-align: middle;\n",
       "    }\n",
       "\n",
       "    .dataframe tbody tr th {\n",
       "        vertical-align: top;\n",
       "    }\n",
       "\n",
       "    .dataframe thead th {\n",
       "        text-align: right;\n",
       "    }\n",
       "</style>\n",
       "<table border=\"1\" class=\"dataframe\">\n",
       "  <thead>\n",
       "    <tr style=\"text-align: right;\">\n",
       "      <th></th>\n",
       "      <th>Nome</th>\n",
       "      <th>Sobrenome</th>\n",
       "      <th>Data de Nascimento</th>\n",
       "      <th>Loja</th>\n",
       "      <th>Produto</th>\n",
       "      <th>Data</th>\n",
       "      <th>Quantidade Vendida</th>\n",
       "      <th>Preco</th>\n",
       "      <th>Faturamento</th>\n",
       "      <th>Mes_Vendas</th>\n",
       "    </tr>\n",
       "  </thead>\n",
       "  <tbody>\n",
       "    <tr>\n",
       "      <th>0</th>\n",
       "      <td>Elizeu</td>\n",
       "      <td>Barros</td>\n",
       "      <td>16/12/1993</td>\n",
       "      <td>Salvador</td>\n",
       "      <td>Casaco</td>\n",
       "      <td>01/02/2018</td>\n",
       "      <td>105</td>\n",
       "      <td>150</td>\n",
       "      <td>15750</td>\n",
       "      <td>2</td>\n",
       "    </tr>\n",
       "    <tr>\n",
       "      <th>1</th>\n",
       "      <td>Andrew</td>\n",
       "      <td>Carvalhal</td>\n",
       "      <td>18/07/1992</td>\n",
       "      <td>Brasilia</td>\n",
       "      <td>Camiseta</td>\n",
       "      <td>01/02/2018</td>\n",
       "      <td>57</td>\n",
       "      <td>250</td>\n",
       "      <td>14250</td>\n",
       "      <td>2</td>\n",
       "    </tr>\n",
       "    <tr>\n",
       "      <th>2</th>\n",
       "      <td>Andrew</td>\n",
       "      <td>Carvalhal</td>\n",
       "      <td>12/02/1985</td>\n",
       "      <td>Sao Paulo</td>\n",
       "      <td>Sapato</td>\n",
       "      <td>01/02/2018</td>\n",
       "      <td>44</td>\n",
       "      <td>150</td>\n",
       "      <td>6600</td>\n",
       "      <td>2</td>\n",
       "    </tr>\n",
       "    <tr>\n",
       "      <th>3</th>\n",
       "      <td>Paloma</td>\n",
       "      <td>Farias</td>\n",
       "      <td>29/03/1989</td>\n",
       "      <td>Rio de Janeiro</td>\n",
       "      <td>Vestido</td>\n",
       "      <td>01/02/2018</td>\n",
       "      <td>55</td>\n",
       "      <td>55</td>\n",
       "      <td>3025</td>\n",
       "      <td>2</td>\n",
       "    </tr>\n",
       "    <tr>\n",
       "      <th>4</th>\n",
       "      <td>Iago</td>\n",
       "      <td>Bensdorp</td>\n",
       "      <td>11/12/1989</td>\n",
       "      <td>Brasilia</td>\n",
       "      <td>Vestido</td>\n",
       "      <td>01/02/2018</td>\n",
       "      <td>7</td>\n",
       "      <td>75</td>\n",
       "      <td>525</td>\n",
       "      <td>2</td>\n",
       "    </tr>\n",
       "  </tbody>\n",
       "</table>\n",
       "</div>"
      ],
      "text/plain": [
       "     Nome  Sobrenome Data de Nascimento            Loja   Produto        Data  \\\n",
       "0  Elizeu     Barros         16/12/1993        Salvador    Casaco  01/02/2018   \n",
       "1  Andrew  Carvalhal         18/07/1992        Brasilia  Camiseta  01/02/2018   \n",
       "2  Andrew  Carvalhal         12/02/1985       Sao Paulo    Sapato  01/02/2018   \n",
       "3  Paloma     Farias         29/03/1989  Rio de Janeiro   Vestido  01/02/2018   \n",
       "4    Iago   Bensdorp         11/12/1989        Brasilia   Vestido  01/02/2018   \n",
       "\n",
       "   Quantidade Vendida  Preco  Faturamento  Mes_Vendas  \n",
       "0                 105    150        15750           2  \n",
       "1                  57    250        14250           2  \n",
       "2                  44    150         6600           2  \n",
       "3                  55     55         3025           2  \n",
       "4                   7     75          525           2  "
      ]
     },
     "execution_count": 41,
     "metadata": {},
     "output_type": "execute_result"
    }
   ],
   "source": [
    "vendas.head()"
   ]
  },
  {
   "cell_type": "code",
   "execution_count": 42,
   "metadata": {},
   "outputs": [],
   "source": [
    "vendas.sort_values(\"Data\", inplace = True)"
   ]
  },
  {
   "cell_type": "code",
   "execution_count": 43,
   "metadata": {},
   "outputs": [],
   "source": [
    "vendasg=vendas.groupby(['Data','Loja'])['Faturamento'].agg('sum').reset_index(name='Total')"
   ]
  },
  {
   "cell_type": "code",
   "execution_count": 44,
   "metadata": {},
   "outputs": [],
   "source": [
    "vendas_date= vendas.groupby('Mes_Vendas')['Faturamento'].sum()"
   ]
  },
  {
   "cell_type": "code",
   "execution_count": 45,
   "metadata": {},
   "outputs": [
    {
     "data": {
      "text/plain": [
       "Mes_Vendas\n",
       "1     1234980\n",
       "2     1000940\n",
       "3     1166215\n",
       "4     1080335\n",
       "5      548060\n",
       "6     1135865\n",
       "7     1040895\n",
       "8     1357145\n",
       "9     1083055\n",
       "10     425395\n",
       "11    1083830\n",
       "12    1226335\n",
       "Name: Faturamento, dtype: int32"
      ]
     },
     "execution_count": 45,
     "metadata": {},
     "output_type": "execute_result"
    }
   ],
   "source": [
    "vendas_date"
   ]
  },
  {
   "cell_type": "code",
   "execution_count": 46,
   "metadata": {},
   "outputs": [],
   "source": [
    "vendas['Mes_Vendas'] = vendas['Mes_Vendas'].replace({1:'Janeiro',2:'Fevereiro',3:'Marco',4:'Abril',5:'Maio',6:'Junho',7:'Julho',\n",
    "                                                    8:'Agosto',9:'Setembro',10:'Outubro',11:'Novembro',12:'Dezembro'})"
   ]
  },
  {
   "cell_type": "code",
   "execution_count": 47,
   "metadata": {},
   "outputs": [
    {
     "data": {
      "text/plain": [
       "array(['Fevereiro', 'Marco', 'Abril', 'Maio', 'Junho', 'Julho', 'Agosto',\n",
       "       'Setembro', 'Outubro', 'Novembro', 'Janeiro', 'Dezembro'],\n",
       "      dtype=object)"
      ]
     },
     "execution_count": 47,
     "metadata": {},
     "output_type": "execute_result"
    }
   ],
   "source": [
    "vendas['Mes_Vendas'].unique()"
   ]
  },
  {
   "cell_type": "code",
   "execution_count": 48,
   "metadata": {},
   "outputs": [],
   "source": [
    "vendas['Data'] = pd.to_datetime(vendas['Data'])"
   ]
  },
  {
   "cell_type": "code",
   "execution_count": 49,
   "metadata": {},
   "outputs": [],
   "source": [
    "vendas['Mes_Vendas_Num'] = vendas['Data'].dt.month"
   ]
  },
  {
   "cell_type": "code",
   "execution_count": 50,
   "metadata": {},
   "outputs": [
    {
     "name": "stdout",
     "output_type": "stream",
     "text": [
      "<class 'pandas.core.frame.DataFrame'>\n",
      "Int64Index: 1286 entries, 0 to 1285\n",
      "Data columns (total 11 columns):\n",
      " #   Column              Non-Null Count  Dtype         \n",
      "---  ------              --------------  -----         \n",
      " 0   Nome                1286 non-null   object        \n",
      " 1   Sobrenome           1286 non-null   object        \n",
      " 2   Data de Nascimento  1286 non-null   object        \n",
      " 3   Loja                1286 non-null   object        \n",
      " 4   Produto             1286 non-null   object        \n",
      " 5   Data                1286 non-null   datetime64[ns]\n",
      " 6   Quantidade Vendida  1286 non-null   int32         \n",
      " 7   Preco               1286 non-null   int32         \n",
      " 8   Faturamento         1286 non-null   int32         \n",
      " 9   Mes_Vendas          1286 non-null   object        \n",
      " 10  Mes_Vendas_Num      1286 non-null   int64         \n",
      "dtypes: datetime64[ns](1), int32(3), int64(1), object(6)\n",
      "memory usage: 105.5+ KB\n"
     ]
    }
   ],
   "source": [
    "vendas.info()"
   ]
  },
  {
   "cell_type": "code",
   "execution_count": 51,
   "metadata": {},
   "outputs": [
    {
     "data": {
      "text/html": [
       "<div>\n",
       "<style scoped>\n",
       "    .dataframe tbody tr th:only-of-type {\n",
       "        vertical-align: middle;\n",
       "    }\n",
       "\n",
       "    .dataframe tbody tr th {\n",
       "        vertical-align: top;\n",
       "    }\n",
       "\n",
       "    .dataframe thead th {\n",
       "        text-align: right;\n",
       "    }\n",
       "</style>\n",
       "<table border=\"1\" class=\"dataframe\">\n",
       "  <thead>\n",
       "    <tr style=\"text-align: right;\">\n",
       "      <th></th>\n",
       "      <th>Nome</th>\n",
       "      <th>Sobrenome</th>\n",
       "      <th>Data de Nascimento</th>\n",
       "      <th>Loja</th>\n",
       "      <th>Produto</th>\n",
       "      <th>Data</th>\n",
       "      <th>Quantidade Vendida</th>\n",
       "      <th>Preco</th>\n",
       "      <th>Faturamento</th>\n",
       "      <th>Mes_Vendas</th>\n",
       "      <th>Mes_Vendas_Num</th>\n",
       "    </tr>\n",
       "  </thead>\n",
       "  <tbody>\n",
       "    <tr>\n",
       "      <th>0</th>\n",
       "      <td>Elizeu</td>\n",
       "      <td>Barros</td>\n",
       "      <td>16/12/1993</td>\n",
       "      <td>Salvador</td>\n",
       "      <td>Casaco</td>\n",
       "      <td>2018-01-02</td>\n",
       "      <td>105</td>\n",
       "      <td>150</td>\n",
       "      <td>15750</td>\n",
       "      <td>Fevereiro</td>\n",
       "      <td>1</td>\n",
       "    </tr>\n",
       "    <tr>\n",
       "      <th>1</th>\n",
       "      <td>Andrew</td>\n",
       "      <td>Carvalhal</td>\n",
       "      <td>18/07/1992</td>\n",
       "      <td>Brasilia</td>\n",
       "      <td>Camiseta</td>\n",
       "      <td>2018-01-02</td>\n",
       "      <td>57</td>\n",
       "      <td>250</td>\n",
       "      <td>14250</td>\n",
       "      <td>Fevereiro</td>\n",
       "      <td>1</td>\n",
       "    </tr>\n",
       "    <tr>\n",
       "      <th>2</th>\n",
       "      <td>Andrew</td>\n",
       "      <td>Carvalhal</td>\n",
       "      <td>12/02/1985</td>\n",
       "      <td>Sao Paulo</td>\n",
       "      <td>Sapato</td>\n",
       "      <td>2018-01-02</td>\n",
       "      <td>44</td>\n",
       "      <td>150</td>\n",
       "      <td>6600</td>\n",
       "      <td>Fevereiro</td>\n",
       "      <td>1</td>\n",
       "    </tr>\n",
       "    <tr>\n",
       "      <th>3</th>\n",
       "      <td>Paloma</td>\n",
       "      <td>Farias</td>\n",
       "      <td>29/03/1989</td>\n",
       "      <td>Rio de Janeiro</td>\n",
       "      <td>Vestido</td>\n",
       "      <td>2018-01-02</td>\n",
       "      <td>55</td>\n",
       "      <td>55</td>\n",
       "      <td>3025</td>\n",
       "      <td>Fevereiro</td>\n",
       "      <td>1</td>\n",
       "    </tr>\n",
       "    <tr>\n",
       "      <th>4</th>\n",
       "      <td>Iago</td>\n",
       "      <td>Bensdorp</td>\n",
       "      <td>11/12/1989</td>\n",
       "      <td>Brasilia</td>\n",
       "      <td>Vestido</td>\n",
       "      <td>2018-01-02</td>\n",
       "      <td>7</td>\n",
       "      <td>75</td>\n",
       "      <td>525</td>\n",
       "      <td>Fevereiro</td>\n",
       "      <td>1</td>\n",
       "    </tr>\n",
       "  </tbody>\n",
       "</table>\n",
       "</div>"
      ],
      "text/plain": [
       "     Nome  Sobrenome Data de Nascimento            Loja   Produto       Data  \\\n",
       "0  Elizeu     Barros         16/12/1993        Salvador    Casaco 2018-01-02   \n",
       "1  Andrew  Carvalhal         18/07/1992        Brasilia  Camiseta 2018-01-02   \n",
       "2  Andrew  Carvalhal         12/02/1985       Sao Paulo    Sapato 2018-01-02   \n",
       "3  Paloma     Farias         29/03/1989  Rio de Janeiro   Vestido 2018-01-02   \n",
       "4    Iago   Bensdorp         11/12/1989        Brasilia   Vestido 2018-01-02   \n",
       "\n",
       "   Quantidade Vendida  Preco  Faturamento Mes_Vendas  Mes_Vendas_Num  \n",
       "0                 105    150        15750  Fevereiro               1  \n",
       "1                  57    250        14250  Fevereiro               1  \n",
       "2                  44    150         6600  Fevereiro               1  \n",
       "3                  55     55         3025  Fevereiro               1  \n",
       "4                   7     75          525  Fevereiro               1  "
      ]
     },
     "execution_count": 51,
     "metadata": {},
     "output_type": "execute_result"
    }
   ],
   "source": [
    "vendas.head()"
   ]
  },
  {
   "cell_type": "code",
   "execution_count": 52,
   "metadata": {},
   "outputs": [],
   "source": [
    "vendas = vendas.sort_values(\"Mes_Vendas_Num\")"
   ]
  },
  {
   "cell_type": "code",
   "execution_count": 53,
   "metadata": {},
   "outputs": [
    {
     "name": "stdout",
     "output_type": "stream",
     "text": [
      "<class 'pandas.core.frame.DataFrame'>\n",
      "Int64Index: 1286 entries, 0 to 1285\n",
      "Data columns (total 11 columns):\n",
      " #   Column              Non-Null Count  Dtype         \n",
      "---  ------              --------------  -----         \n",
      " 0   Nome                1286 non-null   object        \n",
      " 1   Sobrenome           1286 non-null   object        \n",
      " 2   Data de Nascimento  1286 non-null   object        \n",
      " 3   Loja                1286 non-null   object        \n",
      " 4   Produto             1286 non-null   object        \n",
      " 5   Data                1286 non-null   datetime64[ns]\n",
      " 6   Quantidade Vendida  1286 non-null   int32         \n",
      " 7   Preco               1286 non-null   int32         \n",
      " 8   Faturamento         1286 non-null   int32         \n",
      " 9   Mes_Vendas          1286 non-null   object        \n",
      " 10  Mes_Vendas_Num      1286 non-null   int64         \n",
      "dtypes: datetime64[ns](1), int32(3), int64(1), object(6)\n",
      "memory usage: 105.5+ KB\n"
     ]
    }
   ],
   "source": [
    "vendas.info()"
   ]
  },
  {
   "cell_type": "code",
   "execution_count": 54,
   "metadata": {},
   "outputs": [
    {
     "data": {
      "text/html": [
       "<div>\n",
       "<style scoped>\n",
       "    .dataframe tbody tr th:only-of-type {\n",
       "        vertical-align: middle;\n",
       "    }\n",
       "\n",
       "    .dataframe tbody tr th {\n",
       "        vertical-align: top;\n",
       "    }\n",
       "\n",
       "    .dataframe thead th {\n",
       "        text-align: right;\n",
       "    }\n",
       "</style>\n",
       "<table border=\"1\" class=\"dataframe\">\n",
       "  <thead>\n",
       "    <tr style=\"text-align: right;\">\n",
       "      <th></th>\n",
       "      <th>Nome</th>\n",
       "      <th>Sobrenome</th>\n",
       "      <th>Data de Nascimento</th>\n",
       "      <th>Loja</th>\n",
       "      <th>Produto</th>\n",
       "      <th>Data</th>\n",
       "      <th>Quantidade Vendida</th>\n",
       "      <th>Preco</th>\n",
       "      <th>Faturamento</th>\n",
       "      <th>Mes_Vendas</th>\n",
       "      <th>Mes_Vendas_Num</th>\n",
       "    </tr>\n",
       "  </thead>\n",
       "  <tbody>\n",
       "    <tr>\n",
       "      <th>0</th>\n",
       "      <td>Elizeu</td>\n",
       "      <td>Barros</td>\n",
       "      <td>16/12/1993</td>\n",
       "      <td>Salvador</td>\n",
       "      <td>Casaco</td>\n",
       "      <td>2018-01-02</td>\n",
       "      <td>105</td>\n",
       "      <td>150</td>\n",
       "      <td>15750</td>\n",
       "      <td>Fevereiro</td>\n",
       "      <td>1</td>\n",
       "    </tr>\n",
       "    <tr>\n",
       "      <th>93</th>\n",
       "      <td>Juliane</td>\n",
       "      <td>Felipi</td>\n",
       "      <td>09/04/1992</td>\n",
       "      <td>Salvador</td>\n",
       "      <td>Sapato</td>\n",
       "      <td>2018-01-27</td>\n",
       "      <td>43</td>\n",
       "      <td>75</td>\n",
       "      <td>3225</td>\n",
       "      <td>Janeiro</td>\n",
       "      <td>1</td>\n",
       "    </tr>\n",
       "    <tr>\n",
       "      <th>92</th>\n",
       "      <td>Izabel</td>\n",
       "      <td>Milagre</td>\n",
       "      <td>24/07/1988</td>\n",
       "      <td>Rio de Janeiro</td>\n",
       "      <td>Pulseira</td>\n",
       "      <td>2018-01-27</td>\n",
       "      <td>139</td>\n",
       "      <td>25</td>\n",
       "      <td>3475</td>\n",
       "      <td>Janeiro</td>\n",
       "      <td>1</td>\n",
       "    </tr>\n",
       "    <tr>\n",
       "      <th>60</th>\n",
       "      <td>Maryanna</td>\n",
       "      <td>Correa</td>\n",
       "      <td>08/10/1989</td>\n",
       "      <td>Curitiba</td>\n",
       "      <td>Casaco</td>\n",
       "      <td>2018-01-17</td>\n",
       "      <td>86</td>\n",
       "      <td>55</td>\n",
       "      <td>4730</td>\n",
       "      <td>Janeiro</td>\n",
       "      <td>1</td>\n",
       "    </tr>\n",
       "    <tr>\n",
       "      <th>90</th>\n",
       "      <td>Maryanna</td>\n",
       "      <td>Correa</td>\n",
       "      <td>01/05/1993</td>\n",
       "      <td>Brasilia</td>\n",
       "      <td>Vestido</td>\n",
       "      <td>2018-01-26</td>\n",
       "      <td>7</td>\n",
       "      <td>150</td>\n",
       "      <td>1050</td>\n",
       "      <td>Janeiro</td>\n",
       "      <td>1</td>\n",
       "    </tr>\n",
       "  </tbody>\n",
       "</table>\n",
       "</div>"
      ],
      "text/plain": [
       "        Nome Sobrenome Data de Nascimento            Loja   Produto  \\\n",
       "0     Elizeu    Barros         16/12/1993        Salvador    Casaco   \n",
       "93   Juliane    Felipi         09/04/1992        Salvador    Sapato   \n",
       "92    Izabel   Milagre         24/07/1988  Rio de Janeiro  Pulseira   \n",
       "60  Maryanna    Correa         08/10/1989        Curitiba    Casaco   \n",
       "90  Maryanna    Correa         01/05/1993        Brasilia   Vestido   \n",
       "\n",
       "         Data  Quantidade Vendida  Preco  Faturamento Mes_Vendas  \\\n",
       "0  2018-01-02                 105    150        15750  Fevereiro   \n",
       "93 2018-01-27                  43     75         3225    Janeiro   \n",
       "92 2018-01-27                 139     25         3475    Janeiro   \n",
       "60 2018-01-17                  86     55         4730    Janeiro   \n",
       "90 2018-01-26                   7    150         1050    Janeiro   \n",
       "\n",
       "    Mes_Vendas_Num  \n",
       "0                1  \n",
       "93               1  \n",
       "92               1  \n",
       "60               1  \n",
       "90               1  "
      ]
     },
     "execution_count": 54,
     "metadata": {},
     "output_type": "execute_result"
    }
   ],
   "source": [
    "vendas.head()"
   ]
  },
  {
   "cell_type": "code",
   "execution_count": 55,
   "metadata": {},
   "outputs": [],
   "source": [
    "faturamento_total = vendas['Faturamento'].sum()"
   ]
  },
  {
   "cell_type": "code",
   "execution_count": 56,
   "metadata": {},
   "outputs": [
    {
     "data": {
      "text/plain": [
       "12383050"
      ]
     },
     "execution_count": 56,
     "metadata": {},
     "output_type": "execute_result"
    }
   ],
   "source": [
    "faturamento_total "
   ]
  },
  {
   "cell_type": "code",
   "execution_count": 57,
   "metadata": {},
   "outputs": [],
   "source": [
    "Unidades_vendidas = vendas['Quantidade Vendida'].sum()"
   ]
  },
  {
   "cell_type": "code",
   "execution_count": 58,
   "metadata": {},
   "outputs": [
    {
     "data": {
      "text/plain": [
       "92197"
      ]
     },
     "execution_count": 58,
     "metadata": {},
     "output_type": "execute_result"
    }
   ],
   "source": [
    "Unidades_vendidas"
   ]
  },
  {
   "cell_type": "code",
   "execution_count": 59,
   "metadata": {},
   "outputs": [],
   "source": [
    "Media_Preco = round(vendas['Preco'].mean(),2)"
   ]
  },
  {
   "cell_type": "code",
   "execution_count": 60,
   "metadata": {},
   "outputs": [
    {
     "data": {
      "text/plain": [
       "133.58"
      ]
     },
     "execution_count": 60,
     "metadata": {},
     "output_type": "execute_result"
    }
   ],
   "source": [
    "Media_Preco"
   ]
  },
  {
   "cell_type": "code",
   "execution_count": 61,
   "metadata": {},
   "outputs": [
    {
     "data": {
      "text/plain": [
       "Vestido     309\n",
       "Sapato      213\n",
       "Casaco      191\n",
       "Camiseta    125\n",
       "Saia        100\n",
       "Sandalia     82\n",
       "Short        50\n",
       "Chinelo      47\n",
       "Bermuda      44\n",
       "Pulseira     44\n",
       "Tenis        43\n",
       "Jaqueta      38\n",
       "Name: Produto, dtype: int64"
      ]
     },
     "execution_count": 61,
     "metadata": {},
     "output_type": "execute_result"
    }
   ],
   "source": [
    "vendas['Produto'].value_counts()"
   ]
  },
  {
   "cell_type": "code",
   "execution_count": 62,
   "metadata": {},
   "outputs": [],
   "source": [
    "Itens_Unicos_a_venda = vendas['Produto'].nunique()"
   ]
  },
  {
   "cell_type": "code",
   "execution_count": 63,
   "metadata": {},
   "outputs": [
    {
     "data": {
      "text/plain": [
       "12"
      ]
     },
     "execution_count": 63,
     "metadata": {},
     "output_type": "execute_result"
    }
   ],
   "source": [
    "Itens_Unicos_a_venda"
   ]
  },
  {
   "cell_type": "code",
   "execution_count": 64,
   "metadata": {},
   "outputs": [
    {
     "data": {
      "text/html": [
       "<div>\n",
       "<style scoped>\n",
       "    .dataframe tbody tr th:only-of-type {\n",
       "        vertical-align: middle;\n",
       "    }\n",
       "\n",
       "    .dataframe tbody tr th {\n",
       "        vertical-align: top;\n",
       "    }\n",
       "\n",
       "    .dataframe thead th {\n",
       "        text-align: right;\n",
       "    }\n",
       "</style>\n",
       "<table border=\"1\" class=\"dataframe\">\n",
       "  <thead>\n",
       "    <tr style=\"text-align: right;\">\n",
       "      <th></th>\n",
       "      <th>Nome</th>\n",
       "      <th>Sobrenome</th>\n",
       "      <th>Data de Nascimento</th>\n",
       "      <th>Loja</th>\n",
       "      <th>Produto</th>\n",
       "      <th>Data</th>\n",
       "      <th>Quantidade Vendida</th>\n",
       "      <th>Preco</th>\n",
       "      <th>Faturamento</th>\n",
       "      <th>Mes_Vendas</th>\n",
       "      <th>Mes_Vendas_Num</th>\n",
       "    </tr>\n",
       "  </thead>\n",
       "  <tbody>\n",
       "    <tr>\n",
       "      <th>0</th>\n",
       "      <td>Elizeu</td>\n",
       "      <td>Barros</td>\n",
       "      <td>16/12/1993</td>\n",
       "      <td>Salvador</td>\n",
       "      <td>Casaco</td>\n",
       "      <td>2018-01-02</td>\n",
       "      <td>105</td>\n",
       "      <td>150</td>\n",
       "      <td>15750</td>\n",
       "      <td>Fevereiro</td>\n",
       "      <td>1</td>\n",
       "    </tr>\n",
       "    <tr>\n",
       "      <th>93</th>\n",
       "      <td>Juliane</td>\n",
       "      <td>Felipi</td>\n",
       "      <td>09/04/1992</td>\n",
       "      <td>Salvador</td>\n",
       "      <td>Sapato</td>\n",
       "      <td>2018-01-27</td>\n",
       "      <td>43</td>\n",
       "      <td>75</td>\n",
       "      <td>3225</td>\n",
       "      <td>Janeiro</td>\n",
       "      <td>1</td>\n",
       "    </tr>\n",
       "    <tr>\n",
       "      <th>92</th>\n",
       "      <td>Izabel</td>\n",
       "      <td>Milagre</td>\n",
       "      <td>24/07/1988</td>\n",
       "      <td>Rio de Janeiro</td>\n",
       "      <td>Pulseira</td>\n",
       "      <td>2018-01-27</td>\n",
       "      <td>139</td>\n",
       "      <td>25</td>\n",
       "      <td>3475</td>\n",
       "      <td>Janeiro</td>\n",
       "      <td>1</td>\n",
       "    </tr>\n",
       "    <tr>\n",
       "      <th>60</th>\n",
       "      <td>Maryanna</td>\n",
       "      <td>Correa</td>\n",
       "      <td>08/10/1989</td>\n",
       "      <td>Curitiba</td>\n",
       "      <td>Casaco</td>\n",
       "      <td>2018-01-17</td>\n",
       "      <td>86</td>\n",
       "      <td>55</td>\n",
       "      <td>4730</td>\n",
       "      <td>Janeiro</td>\n",
       "      <td>1</td>\n",
       "    </tr>\n",
       "    <tr>\n",
       "      <th>90</th>\n",
       "      <td>Maryanna</td>\n",
       "      <td>Correa</td>\n",
       "      <td>01/05/1993</td>\n",
       "      <td>Brasilia</td>\n",
       "      <td>Vestido</td>\n",
       "      <td>2018-01-26</td>\n",
       "      <td>7</td>\n",
       "      <td>150</td>\n",
       "      <td>1050</td>\n",
       "      <td>Janeiro</td>\n",
       "      <td>1</td>\n",
       "    </tr>\n",
       "  </tbody>\n",
       "</table>\n",
       "</div>"
      ],
      "text/plain": [
       "        Nome Sobrenome Data de Nascimento            Loja   Produto  \\\n",
       "0     Elizeu    Barros         16/12/1993        Salvador    Casaco   \n",
       "93   Juliane    Felipi         09/04/1992        Salvador    Sapato   \n",
       "92    Izabel   Milagre         24/07/1988  Rio de Janeiro  Pulseira   \n",
       "60  Maryanna    Correa         08/10/1989        Curitiba    Casaco   \n",
       "90  Maryanna    Correa         01/05/1993        Brasilia   Vestido   \n",
       "\n",
       "         Data  Quantidade Vendida  Preco  Faturamento Mes_Vendas  \\\n",
       "0  2018-01-02                 105    150        15750  Fevereiro   \n",
       "93 2018-01-27                  43     75         3225    Janeiro   \n",
       "92 2018-01-27                 139     25         3475    Janeiro   \n",
       "60 2018-01-17                  86     55         4730    Janeiro   \n",
       "90 2018-01-26                   7    150         1050    Janeiro   \n",
       "\n",
       "    Mes_Vendas_Num  \n",
       "0                1  \n",
       "93               1  \n",
       "92               1  \n",
       "60               1  \n",
       "90               1  "
      ]
     },
     "execution_count": 64,
     "metadata": {},
     "output_type": "execute_result"
    }
   ],
   "source": [
    "vendas.head()"
   ]
  },
  {
   "cell_type": "code",
   "execution_count": 65,
   "metadata": {},
   "outputs": [],
   "source": [
    "vendas['Data'] = vendas[\"Data\"].dt.strftime(\"%d/%m/%Y\")"
   ]
  },
  {
   "cell_type": "code",
   "execution_count": 66,
   "metadata": {},
   "outputs": [],
   "source": [
    "vendas['Data'] = pd.to_datetime(vendas['Data'])"
   ]
  },
  {
   "cell_type": "code",
   "execution_count": 67,
   "metadata": {},
   "outputs": [
    {
     "data": {
      "text/html": [
       "<div>\n",
       "<style scoped>\n",
       "    .dataframe tbody tr th:only-of-type {\n",
       "        vertical-align: middle;\n",
       "    }\n",
       "\n",
       "    .dataframe tbody tr th {\n",
       "        vertical-align: top;\n",
       "    }\n",
       "\n",
       "    .dataframe thead th {\n",
       "        text-align: right;\n",
       "    }\n",
       "</style>\n",
       "<table border=\"1\" class=\"dataframe\">\n",
       "  <thead>\n",
       "    <tr style=\"text-align: right;\">\n",
       "      <th></th>\n",
       "      <th>Nome</th>\n",
       "      <th>Sobrenome</th>\n",
       "      <th>Data de Nascimento</th>\n",
       "      <th>Loja</th>\n",
       "      <th>Produto</th>\n",
       "      <th>Data</th>\n",
       "      <th>Quantidade Vendida</th>\n",
       "      <th>Preco</th>\n",
       "      <th>Faturamento</th>\n",
       "      <th>Mes_Vendas</th>\n",
       "      <th>Mes_Vendas_Num</th>\n",
       "    </tr>\n",
       "  </thead>\n",
       "  <tbody>\n",
       "    <tr>\n",
       "      <th>0</th>\n",
       "      <td>Elizeu</td>\n",
       "      <td>Barros</td>\n",
       "      <td>16/12/1993</td>\n",
       "      <td>Salvador</td>\n",
       "      <td>Casaco</td>\n",
       "      <td>2018-02-01</td>\n",
       "      <td>105</td>\n",
       "      <td>150</td>\n",
       "      <td>15750</td>\n",
       "      <td>Fevereiro</td>\n",
       "      <td>1</td>\n",
       "    </tr>\n",
       "    <tr>\n",
       "      <th>93</th>\n",
       "      <td>Juliane</td>\n",
       "      <td>Felipi</td>\n",
       "      <td>09/04/1992</td>\n",
       "      <td>Salvador</td>\n",
       "      <td>Sapato</td>\n",
       "      <td>2018-01-27</td>\n",
       "      <td>43</td>\n",
       "      <td>75</td>\n",
       "      <td>3225</td>\n",
       "      <td>Janeiro</td>\n",
       "      <td>1</td>\n",
       "    </tr>\n",
       "    <tr>\n",
       "      <th>92</th>\n",
       "      <td>Izabel</td>\n",
       "      <td>Milagre</td>\n",
       "      <td>24/07/1988</td>\n",
       "      <td>Rio de Janeiro</td>\n",
       "      <td>Pulseira</td>\n",
       "      <td>2018-01-27</td>\n",
       "      <td>139</td>\n",
       "      <td>25</td>\n",
       "      <td>3475</td>\n",
       "      <td>Janeiro</td>\n",
       "      <td>1</td>\n",
       "    </tr>\n",
       "    <tr>\n",
       "      <th>60</th>\n",
       "      <td>Maryanna</td>\n",
       "      <td>Correa</td>\n",
       "      <td>08/10/1989</td>\n",
       "      <td>Curitiba</td>\n",
       "      <td>Casaco</td>\n",
       "      <td>2018-01-17</td>\n",
       "      <td>86</td>\n",
       "      <td>55</td>\n",
       "      <td>4730</td>\n",
       "      <td>Janeiro</td>\n",
       "      <td>1</td>\n",
       "    </tr>\n",
       "    <tr>\n",
       "      <th>90</th>\n",
       "      <td>Maryanna</td>\n",
       "      <td>Correa</td>\n",
       "      <td>01/05/1993</td>\n",
       "      <td>Brasilia</td>\n",
       "      <td>Vestido</td>\n",
       "      <td>2018-01-26</td>\n",
       "      <td>7</td>\n",
       "      <td>150</td>\n",
       "      <td>1050</td>\n",
       "      <td>Janeiro</td>\n",
       "      <td>1</td>\n",
       "    </tr>\n",
       "  </tbody>\n",
       "</table>\n",
       "</div>"
      ],
      "text/plain": [
       "        Nome Sobrenome Data de Nascimento            Loja   Produto  \\\n",
       "0     Elizeu    Barros         16/12/1993        Salvador    Casaco   \n",
       "93   Juliane    Felipi         09/04/1992        Salvador    Sapato   \n",
       "92    Izabel   Milagre         24/07/1988  Rio de Janeiro  Pulseira   \n",
       "60  Maryanna    Correa         08/10/1989        Curitiba    Casaco   \n",
       "90  Maryanna    Correa         01/05/1993        Brasilia   Vestido   \n",
       "\n",
       "         Data  Quantidade Vendida  Preco  Faturamento Mes_Vendas  \\\n",
       "0  2018-02-01                 105    150        15750  Fevereiro   \n",
       "93 2018-01-27                  43     75         3225    Janeiro   \n",
       "92 2018-01-27                 139     25         3475    Janeiro   \n",
       "60 2018-01-17                  86     55         4730    Janeiro   \n",
       "90 2018-01-26                   7    150         1050    Janeiro   \n",
       "\n",
       "    Mes_Vendas_Num  \n",
       "0                1  \n",
       "93               1  \n",
       "92               1  \n",
       "60               1  \n",
       "90               1  "
      ]
     },
     "execution_count": 67,
     "metadata": {},
     "output_type": "execute_result"
    }
   ],
   "source": [
    "vendas.head()"
   ]
  },
  {
   "cell_type": "code",
   "execution_count": 68,
   "metadata": {},
   "outputs": [
    {
     "name": "stdout",
     "output_type": "stream",
     "text": [
      "<class 'pandas.core.frame.DataFrame'>\n",
      "Int64Index: 1286 entries, 0 to 1285\n",
      "Data columns (total 11 columns):\n",
      " #   Column              Non-Null Count  Dtype         \n",
      "---  ------              --------------  -----         \n",
      " 0   Nome                1286 non-null   object        \n",
      " 1   Sobrenome           1286 non-null   object        \n",
      " 2   Data de Nascimento  1286 non-null   object        \n",
      " 3   Loja                1286 non-null   object        \n",
      " 4   Produto             1286 non-null   object        \n",
      " 5   Data                1286 non-null   datetime64[ns]\n",
      " 6   Quantidade Vendida  1286 non-null   int32         \n",
      " 7   Preco               1286 non-null   int32         \n",
      " 8   Faturamento         1286 non-null   int32         \n",
      " 9   Mes_Vendas          1286 non-null   object        \n",
      " 10  Mes_Vendas_Num      1286 non-null   int64         \n",
      "dtypes: datetime64[ns](1), int32(3), int64(1), object(6)\n",
      "memory usage: 105.5+ KB\n"
     ]
    }
   ],
   "source": [
    "vendas.info()"
   ]
  },
  {
   "cell_type": "code",
   "execution_count": 69,
   "metadata": {},
   "outputs": [],
   "source": [
    "vendas['Data'] = vendas[\"Data\"].dt.strftime(\"%d/%m/%Y\")"
   ]
  },
  {
   "cell_type": "code",
   "execution_count": 70,
   "metadata": {},
   "outputs": [
    {
     "data": {
      "text/html": [
       "<div>\n",
       "<style scoped>\n",
       "    .dataframe tbody tr th:only-of-type {\n",
       "        vertical-align: middle;\n",
       "    }\n",
       "\n",
       "    .dataframe tbody tr th {\n",
       "        vertical-align: top;\n",
       "    }\n",
       "\n",
       "    .dataframe thead th {\n",
       "        text-align: right;\n",
       "    }\n",
       "</style>\n",
       "<table border=\"1\" class=\"dataframe\">\n",
       "  <thead>\n",
       "    <tr style=\"text-align: right;\">\n",
       "      <th></th>\n",
       "      <th>Nome</th>\n",
       "      <th>Sobrenome</th>\n",
       "      <th>Data de Nascimento</th>\n",
       "      <th>Loja</th>\n",
       "      <th>Produto</th>\n",
       "      <th>Data</th>\n",
       "      <th>Quantidade Vendida</th>\n",
       "      <th>Preco</th>\n",
       "      <th>Faturamento</th>\n",
       "      <th>Mes_Vendas</th>\n",
       "      <th>Mes_Vendas_Num</th>\n",
       "    </tr>\n",
       "  </thead>\n",
       "  <tbody>\n",
       "    <tr>\n",
       "      <th>0</th>\n",
       "      <td>Elizeu</td>\n",
       "      <td>Barros</td>\n",
       "      <td>16/12/1993</td>\n",
       "      <td>Salvador</td>\n",
       "      <td>Casaco</td>\n",
       "      <td>01/02/2018</td>\n",
       "      <td>105</td>\n",
       "      <td>150</td>\n",
       "      <td>15750</td>\n",
       "      <td>Fevereiro</td>\n",
       "      <td>1</td>\n",
       "    </tr>\n",
       "    <tr>\n",
       "      <th>93</th>\n",
       "      <td>Juliane</td>\n",
       "      <td>Felipi</td>\n",
       "      <td>09/04/1992</td>\n",
       "      <td>Salvador</td>\n",
       "      <td>Sapato</td>\n",
       "      <td>27/01/2018</td>\n",
       "      <td>43</td>\n",
       "      <td>75</td>\n",
       "      <td>3225</td>\n",
       "      <td>Janeiro</td>\n",
       "      <td>1</td>\n",
       "    </tr>\n",
       "    <tr>\n",
       "      <th>92</th>\n",
       "      <td>Izabel</td>\n",
       "      <td>Milagre</td>\n",
       "      <td>24/07/1988</td>\n",
       "      <td>Rio de Janeiro</td>\n",
       "      <td>Pulseira</td>\n",
       "      <td>27/01/2018</td>\n",
       "      <td>139</td>\n",
       "      <td>25</td>\n",
       "      <td>3475</td>\n",
       "      <td>Janeiro</td>\n",
       "      <td>1</td>\n",
       "    </tr>\n",
       "    <tr>\n",
       "      <th>60</th>\n",
       "      <td>Maryanna</td>\n",
       "      <td>Correa</td>\n",
       "      <td>08/10/1989</td>\n",
       "      <td>Curitiba</td>\n",
       "      <td>Casaco</td>\n",
       "      <td>17/01/2018</td>\n",
       "      <td>86</td>\n",
       "      <td>55</td>\n",
       "      <td>4730</td>\n",
       "      <td>Janeiro</td>\n",
       "      <td>1</td>\n",
       "    </tr>\n",
       "    <tr>\n",
       "      <th>90</th>\n",
       "      <td>Maryanna</td>\n",
       "      <td>Correa</td>\n",
       "      <td>01/05/1993</td>\n",
       "      <td>Brasilia</td>\n",
       "      <td>Vestido</td>\n",
       "      <td>26/01/2018</td>\n",
       "      <td>7</td>\n",
       "      <td>150</td>\n",
       "      <td>1050</td>\n",
       "      <td>Janeiro</td>\n",
       "      <td>1</td>\n",
       "    </tr>\n",
       "  </tbody>\n",
       "</table>\n",
       "</div>"
      ],
      "text/plain": [
       "        Nome Sobrenome Data de Nascimento            Loja   Produto  \\\n",
       "0     Elizeu    Barros         16/12/1993        Salvador    Casaco   \n",
       "93   Juliane    Felipi         09/04/1992        Salvador    Sapato   \n",
       "92    Izabel   Milagre         24/07/1988  Rio de Janeiro  Pulseira   \n",
       "60  Maryanna    Correa         08/10/1989        Curitiba    Casaco   \n",
       "90  Maryanna    Correa         01/05/1993        Brasilia   Vestido   \n",
       "\n",
       "          Data  Quantidade Vendida  Preco  Faturamento Mes_Vendas  \\\n",
       "0   01/02/2018                 105    150        15750  Fevereiro   \n",
       "93  27/01/2018                  43     75         3225    Janeiro   \n",
       "92  27/01/2018                 139     25         3475    Janeiro   \n",
       "60  17/01/2018                  86     55         4730    Janeiro   \n",
       "90  26/01/2018                   7    150         1050    Janeiro   \n",
       "\n",
       "    Mes_Vendas_Num  \n",
       "0                1  \n",
       "93               1  \n",
       "92               1  \n",
       "60               1  \n",
       "90               1  "
      ]
     },
     "execution_count": 70,
     "metadata": {},
     "output_type": "execute_result"
    }
   ],
   "source": [
    "vendas.head()"
   ]
  },
  {
   "cell_type": "code",
   "execution_count": 71,
   "metadata": {},
   "outputs": [
    {
     "data": {
      "text/plain": [
       "'31/12/2018'"
      ]
     },
     "execution_count": 71,
     "metadata": {},
     "output_type": "execute_result"
    }
   ],
   "source": [
    "max(vendas['Data'])"
   ]
  },
  {
   "cell_type": "code",
   "execution_count": 72,
   "metadata": {},
   "outputs": [
    {
     "data": {
      "text/plain": [
       "'01/02/2018'"
      ]
     },
     "execution_count": 72,
     "metadata": {},
     "output_type": "execute_result"
    }
   ],
   "source": [
    "min(vendas['Data'])"
   ]
  },
  {
   "cell_type": "code",
   "execution_count": 73,
   "metadata": {},
   "outputs": [
    {
     "name": "stdout",
     "output_type": "stream",
     "text": [
      "<class 'pandas.core.frame.DataFrame'>\n",
      "Int64Index: 1286 entries, 0 to 1285\n",
      "Data columns (total 11 columns):\n",
      " #   Column              Non-Null Count  Dtype \n",
      "---  ------              --------------  ----- \n",
      " 0   Nome                1286 non-null   object\n",
      " 1   Sobrenome           1286 non-null   object\n",
      " 2   Data de Nascimento  1286 non-null   object\n",
      " 3   Loja                1286 non-null   object\n",
      " 4   Produto             1286 non-null   object\n",
      " 5   Data                1286 non-null   object\n",
      " 6   Quantidade Vendida  1286 non-null   int32 \n",
      " 7   Preco               1286 non-null   int32 \n",
      " 8   Faturamento         1286 non-null   int32 \n",
      " 9   Mes_Vendas          1286 non-null   object\n",
      " 10  Mes_Vendas_Num      1286 non-null   int64 \n",
      "dtypes: int32(3), int64(1), object(7)\n",
      "memory usage: 105.5+ KB\n"
     ]
    }
   ],
   "source": [
    "vendas.info()"
   ]
  },
  {
   "cell_type": "code",
   "execution_count": 74,
   "metadata": {},
   "outputs": [
    {
     "data": {
      "text/html": [
       "<div>\n",
       "<style scoped>\n",
       "    .dataframe tbody tr th:only-of-type {\n",
       "        vertical-align: middle;\n",
       "    }\n",
       "\n",
       "    .dataframe tbody tr th {\n",
       "        vertical-align: top;\n",
       "    }\n",
       "\n",
       "    .dataframe thead th {\n",
       "        text-align: right;\n",
       "    }\n",
       "</style>\n",
       "<table border=\"1\" class=\"dataframe\">\n",
       "  <thead>\n",
       "    <tr style=\"text-align: right;\">\n",
       "      <th></th>\n",
       "      <th>Nome</th>\n",
       "      <th>Sobrenome</th>\n",
       "      <th>Data de Nascimento</th>\n",
       "      <th>Loja</th>\n",
       "      <th>Produto</th>\n",
       "      <th>Data</th>\n",
       "      <th>Quantidade Vendida</th>\n",
       "      <th>Preco</th>\n",
       "      <th>Faturamento</th>\n",
       "      <th>Mes_Vendas</th>\n",
       "      <th>Mes_Vendas_Num</th>\n",
       "    </tr>\n",
       "  </thead>\n",
       "  <tbody>\n",
       "    <tr>\n",
       "      <th>0</th>\n",
       "      <td>Elizeu</td>\n",
       "      <td>Barros</td>\n",
       "      <td>16/12/1993</td>\n",
       "      <td>Salvador</td>\n",
       "      <td>Casaco</td>\n",
       "      <td>01/02/2018</td>\n",
       "      <td>105</td>\n",
       "      <td>150</td>\n",
       "      <td>15750</td>\n",
       "      <td>Fevereiro</td>\n",
       "      <td>1</td>\n",
       "    </tr>\n",
       "    <tr>\n",
       "      <th>93</th>\n",
       "      <td>Juliane</td>\n",
       "      <td>Felipi</td>\n",
       "      <td>09/04/1992</td>\n",
       "      <td>Salvador</td>\n",
       "      <td>Sapato</td>\n",
       "      <td>27/01/2018</td>\n",
       "      <td>43</td>\n",
       "      <td>75</td>\n",
       "      <td>3225</td>\n",
       "      <td>Janeiro</td>\n",
       "      <td>1</td>\n",
       "    </tr>\n",
       "    <tr>\n",
       "      <th>92</th>\n",
       "      <td>Izabel</td>\n",
       "      <td>Milagre</td>\n",
       "      <td>24/07/1988</td>\n",
       "      <td>Rio de Janeiro</td>\n",
       "      <td>Pulseira</td>\n",
       "      <td>27/01/2018</td>\n",
       "      <td>139</td>\n",
       "      <td>25</td>\n",
       "      <td>3475</td>\n",
       "      <td>Janeiro</td>\n",
       "      <td>1</td>\n",
       "    </tr>\n",
       "    <tr>\n",
       "      <th>60</th>\n",
       "      <td>Maryanna</td>\n",
       "      <td>Correa</td>\n",
       "      <td>08/10/1989</td>\n",
       "      <td>Curitiba</td>\n",
       "      <td>Casaco</td>\n",
       "      <td>17/01/2018</td>\n",
       "      <td>86</td>\n",
       "      <td>55</td>\n",
       "      <td>4730</td>\n",
       "      <td>Janeiro</td>\n",
       "      <td>1</td>\n",
       "    </tr>\n",
       "    <tr>\n",
       "      <th>90</th>\n",
       "      <td>Maryanna</td>\n",
       "      <td>Correa</td>\n",
       "      <td>01/05/1993</td>\n",
       "      <td>Brasilia</td>\n",
       "      <td>Vestido</td>\n",
       "      <td>26/01/2018</td>\n",
       "      <td>7</td>\n",
       "      <td>150</td>\n",
       "      <td>1050</td>\n",
       "      <td>Janeiro</td>\n",
       "      <td>1</td>\n",
       "    </tr>\n",
       "  </tbody>\n",
       "</table>\n",
       "</div>"
      ],
      "text/plain": [
       "        Nome Sobrenome Data de Nascimento            Loja   Produto  \\\n",
       "0     Elizeu    Barros         16/12/1993        Salvador    Casaco   \n",
       "93   Juliane    Felipi         09/04/1992        Salvador    Sapato   \n",
       "92    Izabel   Milagre         24/07/1988  Rio de Janeiro  Pulseira   \n",
       "60  Maryanna    Correa         08/10/1989        Curitiba    Casaco   \n",
       "90  Maryanna    Correa         01/05/1993        Brasilia   Vestido   \n",
       "\n",
       "          Data  Quantidade Vendida  Preco  Faturamento Mes_Vendas  \\\n",
       "0   01/02/2018                 105    150        15750  Fevereiro   \n",
       "93  27/01/2018                  43     75         3225    Janeiro   \n",
       "92  27/01/2018                 139     25         3475    Janeiro   \n",
       "60  17/01/2018                  86     55         4730    Janeiro   \n",
       "90  26/01/2018                   7    150         1050    Janeiro   \n",
       "\n",
       "    Mes_Vendas_Num  \n",
       "0                1  \n",
       "93               1  \n",
       "92               1  \n",
       "60               1  \n",
       "90               1  "
      ]
     },
     "execution_count": 74,
     "metadata": {},
     "output_type": "execute_result"
    }
   ],
   "source": [
    "vendas.head()"
   ]
  },
  {
   "cell_type": "code",
   "execution_count": 75,
   "metadata": {},
   "outputs": [],
   "source": [
    "vendas_f = vendas.groupby('Loja')['Faturamento'].agg('sum').reset_index(name='Faturamento total')"
   ]
  },
  {
   "cell_type": "code",
   "execution_count": 76,
   "metadata": {},
   "outputs": [],
   "source": [
    "vendas_p = vendas.groupby('Produto')['Faturamento'].agg('sum').reset_index(name='Faturamento total')"
   ]
  },
  {
   "cell_type": "code",
   "execution_count": 77,
   "metadata": {},
   "outputs": [
    {
     "data": {
      "text/plain": [
       "array(['Casaco', 'Sapato', 'Pulseira', 'Vestido', 'Short', 'Camiseta',\n",
       "       'Sandalia', 'Saia', 'Jaqueta', 'Bermuda', 'Tenis', 'Chinelo'],\n",
       "      dtype=object)"
      ]
     },
     "execution_count": 77,
     "metadata": {},
     "output_type": "execute_result"
    }
   ],
   "source": [
    "vendas['Produto'].unique()"
   ]
  },
  {
   "cell_type": "code",
   "execution_count": 78,
   "metadata": {},
   "outputs": [],
   "source": [
    "vendas['Produto']= vendas['Produto'].str.replace('SandÃ¡lia','Sandalia')"
   ]
  },
  {
   "cell_type": "code",
   "execution_count": 79,
   "metadata": {},
   "outputs": [],
   "source": [
    "vendas['Produto']= vendas['Produto'].str.replace('TÃªnis','Tenis')"
   ]
  },
  {
   "cell_type": "code",
   "execution_count": 80,
   "metadata": {},
   "outputs": [
    {
     "data": {
      "text/plain": [
       "array(['Casaco', 'Sapato', 'Pulseira', 'Vestido', 'Short', 'Camiseta',\n",
       "       'Sandalia', 'Saia', 'Jaqueta', 'Bermuda', 'Tenis', 'Chinelo'],\n",
       "      dtype=object)"
      ]
     },
     "execution_count": 80,
     "metadata": {},
     "output_type": "execute_result"
    }
   ],
   "source": [
    "vendas['Produto'].unique()"
   ]
  },
  {
   "cell_type": "code",
   "execution_count": 81,
   "metadata": {},
   "outputs": [
    {
     "data": {
      "text/html": [
       "<div>\n",
       "<style scoped>\n",
       "    .dataframe tbody tr th:only-of-type {\n",
       "        vertical-align: middle;\n",
       "    }\n",
       "\n",
       "    .dataframe tbody tr th {\n",
       "        vertical-align: top;\n",
       "    }\n",
       "\n",
       "    .dataframe thead th {\n",
       "        text-align: right;\n",
       "    }\n",
       "</style>\n",
       "<table border=\"1\" class=\"dataframe\">\n",
       "  <thead>\n",
       "    <tr style=\"text-align: right;\">\n",
       "      <th></th>\n",
       "      <th>Nome</th>\n",
       "      <th>Sobrenome</th>\n",
       "      <th>Data de Nascimento</th>\n",
       "      <th>Loja</th>\n",
       "      <th>Produto</th>\n",
       "      <th>Data</th>\n",
       "      <th>Quantidade Vendida</th>\n",
       "      <th>Preco</th>\n",
       "      <th>Faturamento</th>\n",
       "      <th>Mes_Vendas</th>\n",
       "      <th>Mes_Vendas_Num</th>\n",
       "    </tr>\n",
       "  </thead>\n",
       "  <tbody>\n",
       "    <tr>\n",
       "      <th>0</th>\n",
       "      <td>Elizeu</td>\n",
       "      <td>Barros</td>\n",
       "      <td>16/12/1993</td>\n",
       "      <td>Salvador</td>\n",
       "      <td>Casaco</td>\n",
       "      <td>01/02/2018</td>\n",
       "      <td>105</td>\n",
       "      <td>150</td>\n",
       "      <td>15750</td>\n",
       "      <td>Fevereiro</td>\n",
       "      <td>1</td>\n",
       "    </tr>\n",
       "    <tr>\n",
       "      <th>93</th>\n",
       "      <td>Juliane</td>\n",
       "      <td>Felipi</td>\n",
       "      <td>09/04/1992</td>\n",
       "      <td>Salvador</td>\n",
       "      <td>Sapato</td>\n",
       "      <td>27/01/2018</td>\n",
       "      <td>43</td>\n",
       "      <td>75</td>\n",
       "      <td>3225</td>\n",
       "      <td>Janeiro</td>\n",
       "      <td>1</td>\n",
       "    </tr>\n",
       "    <tr>\n",
       "      <th>92</th>\n",
       "      <td>Izabel</td>\n",
       "      <td>Milagre</td>\n",
       "      <td>24/07/1988</td>\n",
       "      <td>Rio de Janeiro</td>\n",
       "      <td>Pulseira</td>\n",
       "      <td>27/01/2018</td>\n",
       "      <td>139</td>\n",
       "      <td>25</td>\n",
       "      <td>3475</td>\n",
       "      <td>Janeiro</td>\n",
       "      <td>1</td>\n",
       "    </tr>\n",
       "    <tr>\n",
       "      <th>60</th>\n",
       "      <td>Maryanna</td>\n",
       "      <td>Correa</td>\n",
       "      <td>08/10/1989</td>\n",
       "      <td>Curitiba</td>\n",
       "      <td>Casaco</td>\n",
       "      <td>17/01/2018</td>\n",
       "      <td>86</td>\n",
       "      <td>55</td>\n",
       "      <td>4730</td>\n",
       "      <td>Janeiro</td>\n",
       "      <td>1</td>\n",
       "    </tr>\n",
       "    <tr>\n",
       "      <th>90</th>\n",
       "      <td>Maryanna</td>\n",
       "      <td>Correa</td>\n",
       "      <td>01/05/1993</td>\n",
       "      <td>Brasilia</td>\n",
       "      <td>Vestido</td>\n",
       "      <td>26/01/2018</td>\n",
       "      <td>7</td>\n",
       "      <td>150</td>\n",
       "      <td>1050</td>\n",
       "      <td>Janeiro</td>\n",
       "      <td>1</td>\n",
       "    </tr>\n",
       "  </tbody>\n",
       "</table>\n",
       "</div>"
      ],
      "text/plain": [
       "        Nome Sobrenome Data de Nascimento            Loja   Produto  \\\n",
       "0     Elizeu    Barros         16/12/1993        Salvador    Casaco   \n",
       "93   Juliane    Felipi         09/04/1992        Salvador    Sapato   \n",
       "92    Izabel   Milagre         24/07/1988  Rio de Janeiro  Pulseira   \n",
       "60  Maryanna    Correa         08/10/1989        Curitiba    Casaco   \n",
       "90  Maryanna    Correa         01/05/1993        Brasilia   Vestido   \n",
       "\n",
       "          Data  Quantidade Vendida  Preco  Faturamento Mes_Vendas  \\\n",
       "0   01/02/2018                 105    150        15750  Fevereiro   \n",
       "93  27/01/2018                  43     75         3225    Janeiro   \n",
       "92  27/01/2018                 139     25         3475    Janeiro   \n",
       "60  17/01/2018                  86     55         4730    Janeiro   \n",
       "90  26/01/2018                   7    150         1050    Janeiro   \n",
       "\n",
       "    Mes_Vendas_Num  \n",
       "0                1  \n",
       "93               1  \n",
       "92               1  \n",
       "60               1  \n",
       "90               1  "
      ]
     },
     "execution_count": 81,
     "metadata": {},
     "output_type": "execute_result"
    }
   ],
   "source": [
    "vendas.head()"
   ]
  },
  {
   "cell_type": "code",
   "execution_count": 82,
   "metadata": {},
   "outputs": [
    {
     "name": "stdout",
     "output_type": "stream",
     "text": [
      "<class 'pandas.core.frame.DataFrame'>\n",
      "Int64Index: 1286 entries, 0 to 1285\n",
      "Data columns (total 11 columns):\n",
      " #   Column              Non-Null Count  Dtype \n",
      "---  ------              --------------  ----- \n",
      " 0   Nome                1286 non-null   object\n",
      " 1   Sobrenome           1286 non-null   object\n",
      " 2   Data de Nascimento  1286 non-null   object\n",
      " 3   Loja                1286 non-null   object\n",
      " 4   Produto             1286 non-null   object\n",
      " 5   Data                1286 non-null   object\n",
      " 6   Quantidade Vendida  1286 non-null   int32 \n",
      " 7   Preco               1286 non-null   int32 \n",
      " 8   Faturamento         1286 non-null   int32 \n",
      " 9   Mes_Vendas          1286 non-null   object\n",
      " 10  Mes_Vendas_Num      1286 non-null   int64 \n",
      "dtypes: int32(3), int64(1), object(7)\n",
      "memory usage: 105.5+ KB\n"
     ]
    }
   ],
   "source": [
    "vendas.info()"
   ]
  },
  {
   "cell_type": "code",
   "execution_count": 83,
   "metadata": {},
   "outputs": [],
   "source": [
    "vendas['Data']=pd.to_datetime(vendas['Data'])"
   ]
  },
  {
   "cell_type": "code",
   "execution_count": 84,
   "metadata": {},
   "outputs": [
    {
     "data": {
      "text/html": [
       "<div>\n",
       "<style scoped>\n",
       "    .dataframe tbody tr th:only-of-type {\n",
       "        vertical-align: middle;\n",
       "    }\n",
       "\n",
       "    .dataframe tbody tr th {\n",
       "        vertical-align: top;\n",
       "    }\n",
       "\n",
       "    .dataframe thead th {\n",
       "        text-align: right;\n",
       "    }\n",
       "</style>\n",
       "<table border=\"1\" class=\"dataframe\">\n",
       "  <thead>\n",
       "    <tr style=\"text-align: right;\">\n",
       "      <th></th>\n",
       "      <th>Nome</th>\n",
       "      <th>Sobrenome</th>\n",
       "      <th>Data de Nascimento</th>\n",
       "      <th>Loja</th>\n",
       "      <th>Produto</th>\n",
       "      <th>Data</th>\n",
       "      <th>Quantidade Vendida</th>\n",
       "      <th>Preco</th>\n",
       "      <th>Faturamento</th>\n",
       "      <th>Mes_Vendas</th>\n",
       "      <th>Mes_Vendas_Num</th>\n",
       "    </tr>\n",
       "  </thead>\n",
       "  <tbody>\n",
       "    <tr>\n",
       "      <th>0</th>\n",
       "      <td>Elizeu</td>\n",
       "      <td>Barros</td>\n",
       "      <td>16/12/1993</td>\n",
       "      <td>Salvador</td>\n",
       "      <td>Casaco</td>\n",
       "      <td>2018-01-02</td>\n",
       "      <td>105</td>\n",
       "      <td>150</td>\n",
       "      <td>15750</td>\n",
       "      <td>Fevereiro</td>\n",
       "      <td>1</td>\n",
       "    </tr>\n",
       "    <tr>\n",
       "      <th>93</th>\n",
       "      <td>Juliane</td>\n",
       "      <td>Felipi</td>\n",
       "      <td>09/04/1992</td>\n",
       "      <td>Salvador</td>\n",
       "      <td>Sapato</td>\n",
       "      <td>2018-01-27</td>\n",
       "      <td>43</td>\n",
       "      <td>75</td>\n",
       "      <td>3225</td>\n",
       "      <td>Janeiro</td>\n",
       "      <td>1</td>\n",
       "    </tr>\n",
       "    <tr>\n",
       "      <th>92</th>\n",
       "      <td>Izabel</td>\n",
       "      <td>Milagre</td>\n",
       "      <td>24/07/1988</td>\n",
       "      <td>Rio de Janeiro</td>\n",
       "      <td>Pulseira</td>\n",
       "      <td>2018-01-27</td>\n",
       "      <td>139</td>\n",
       "      <td>25</td>\n",
       "      <td>3475</td>\n",
       "      <td>Janeiro</td>\n",
       "      <td>1</td>\n",
       "    </tr>\n",
       "    <tr>\n",
       "      <th>60</th>\n",
       "      <td>Maryanna</td>\n",
       "      <td>Correa</td>\n",
       "      <td>08/10/1989</td>\n",
       "      <td>Curitiba</td>\n",
       "      <td>Casaco</td>\n",
       "      <td>2018-01-17</td>\n",
       "      <td>86</td>\n",
       "      <td>55</td>\n",
       "      <td>4730</td>\n",
       "      <td>Janeiro</td>\n",
       "      <td>1</td>\n",
       "    </tr>\n",
       "    <tr>\n",
       "      <th>90</th>\n",
       "      <td>Maryanna</td>\n",
       "      <td>Correa</td>\n",
       "      <td>01/05/1993</td>\n",
       "      <td>Brasilia</td>\n",
       "      <td>Vestido</td>\n",
       "      <td>2018-01-26</td>\n",
       "      <td>7</td>\n",
       "      <td>150</td>\n",
       "      <td>1050</td>\n",
       "      <td>Janeiro</td>\n",
       "      <td>1</td>\n",
       "    </tr>\n",
       "  </tbody>\n",
       "</table>\n",
       "</div>"
      ],
      "text/plain": [
       "        Nome Sobrenome Data de Nascimento            Loja   Produto  \\\n",
       "0     Elizeu    Barros         16/12/1993        Salvador    Casaco   \n",
       "93   Juliane    Felipi         09/04/1992        Salvador    Sapato   \n",
       "92    Izabel   Milagre         24/07/1988  Rio de Janeiro  Pulseira   \n",
       "60  Maryanna    Correa         08/10/1989        Curitiba    Casaco   \n",
       "90  Maryanna    Correa         01/05/1993        Brasilia   Vestido   \n",
       "\n",
       "         Data  Quantidade Vendida  Preco  Faturamento Mes_Vendas  \\\n",
       "0  2018-01-02                 105    150        15750  Fevereiro   \n",
       "93 2018-01-27                  43     75         3225    Janeiro   \n",
       "92 2018-01-27                 139     25         3475    Janeiro   \n",
       "60 2018-01-17                  86     55         4730    Janeiro   \n",
       "90 2018-01-26                   7    150         1050    Janeiro   \n",
       "\n",
       "    Mes_Vendas_Num  \n",
       "0                1  \n",
       "93               1  \n",
       "92               1  \n",
       "60               1  \n",
       "90               1  "
      ]
     },
     "execution_count": 84,
     "metadata": {},
     "output_type": "execute_result"
    }
   ],
   "source": [
    "vendas.head()"
   ]
  },
  {
   "cell_type": "code",
   "execution_count": 85,
   "metadata": {},
   "outputs": [
    {
     "data": {
      "text/plain": [
       "Timestamp('2018-01-02 00:00:00')"
      ]
     },
     "execution_count": 85,
     "metadata": {},
     "output_type": "execute_result"
    }
   ],
   "source": [
    "min(vendas['Data'])"
   ]
  },
  {
   "cell_type": "code",
   "execution_count": 86,
   "metadata": {},
   "outputs": [
    {
     "data": {
      "text/plain": [
       "Timestamp('2018-12-31 00:00:00')"
      ]
     },
     "execution_count": 86,
     "metadata": {},
     "output_type": "execute_result"
    }
   ],
   "source": [
    "max(vendas['Data'])"
   ]
  },
  {
   "cell_type": "code",
   "execution_count": 87,
   "metadata": {},
   "outputs": [],
   "source": [
    "import random "
   ]
  },
  {
   "cell_type": "code",
   "execution_count": 88,
   "metadata": {},
   "outputs": [],
   "source": [
    "vendas['Devolucoes']=np.random.randint(1, 9, size = 1286)"
   ]
  },
  {
   "cell_type": "code",
   "execution_count": 89,
   "metadata": {},
   "outputs": [
    {
     "data": {
      "text/html": [
       "<div>\n",
       "<style scoped>\n",
       "    .dataframe tbody tr th:only-of-type {\n",
       "        vertical-align: middle;\n",
       "    }\n",
       "\n",
       "    .dataframe tbody tr th {\n",
       "        vertical-align: top;\n",
       "    }\n",
       "\n",
       "    .dataframe thead th {\n",
       "        text-align: right;\n",
       "    }\n",
       "</style>\n",
       "<table border=\"1\" class=\"dataframe\">\n",
       "  <thead>\n",
       "    <tr style=\"text-align: right;\">\n",
       "      <th></th>\n",
       "      <th>Nome</th>\n",
       "      <th>Sobrenome</th>\n",
       "      <th>Data de Nascimento</th>\n",
       "      <th>Loja</th>\n",
       "      <th>Produto</th>\n",
       "      <th>Data</th>\n",
       "      <th>Quantidade Vendida</th>\n",
       "      <th>Preco</th>\n",
       "      <th>Faturamento</th>\n",
       "      <th>Mes_Vendas</th>\n",
       "      <th>Mes_Vendas_Num</th>\n",
       "      <th>Devolucoes</th>\n",
       "    </tr>\n",
       "  </thead>\n",
       "  <tbody>\n",
       "    <tr>\n",
       "      <th>0</th>\n",
       "      <td>Elizeu</td>\n",
       "      <td>Barros</td>\n",
       "      <td>16/12/1993</td>\n",
       "      <td>Salvador</td>\n",
       "      <td>Casaco</td>\n",
       "      <td>2018-01-02</td>\n",
       "      <td>105</td>\n",
       "      <td>150</td>\n",
       "      <td>15750</td>\n",
       "      <td>Fevereiro</td>\n",
       "      <td>1</td>\n",
       "      <td>1</td>\n",
       "    </tr>\n",
       "    <tr>\n",
       "      <th>93</th>\n",
       "      <td>Juliane</td>\n",
       "      <td>Felipi</td>\n",
       "      <td>09/04/1992</td>\n",
       "      <td>Salvador</td>\n",
       "      <td>Sapato</td>\n",
       "      <td>2018-01-27</td>\n",
       "      <td>43</td>\n",
       "      <td>75</td>\n",
       "      <td>3225</td>\n",
       "      <td>Janeiro</td>\n",
       "      <td>1</td>\n",
       "      <td>2</td>\n",
       "    </tr>\n",
       "    <tr>\n",
       "      <th>92</th>\n",
       "      <td>Izabel</td>\n",
       "      <td>Milagre</td>\n",
       "      <td>24/07/1988</td>\n",
       "      <td>Rio de Janeiro</td>\n",
       "      <td>Pulseira</td>\n",
       "      <td>2018-01-27</td>\n",
       "      <td>139</td>\n",
       "      <td>25</td>\n",
       "      <td>3475</td>\n",
       "      <td>Janeiro</td>\n",
       "      <td>1</td>\n",
       "      <td>6</td>\n",
       "    </tr>\n",
       "    <tr>\n",
       "      <th>60</th>\n",
       "      <td>Maryanna</td>\n",
       "      <td>Correa</td>\n",
       "      <td>08/10/1989</td>\n",
       "      <td>Curitiba</td>\n",
       "      <td>Casaco</td>\n",
       "      <td>2018-01-17</td>\n",
       "      <td>86</td>\n",
       "      <td>55</td>\n",
       "      <td>4730</td>\n",
       "      <td>Janeiro</td>\n",
       "      <td>1</td>\n",
       "      <td>7</td>\n",
       "    </tr>\n",
       "    <tr>\n",
       "      <th>90</th>\n",
       "      <td>Maryanna</td>\n",
       "      <td>Correa</td>\n",
       "      <td>01/05/1993</td>\n",
       "      <td>Brasilia</td>\n",
       "      <td>Vestido</td>\n",
       "      <td>2018-01-26</td>\n",
       "      <td>7</td>\n",
       "      <td>150</td>\n",
       "      <td>1050</td>\n",
       "      <td>Janeiro</td>\n",
       "      <td>1</td>\n",
       "      <td>1</td>\n",
       "    </tr>\n",
       "  </tbody>\n",
       "</table>\n",
       "</div>"
      ],
      "text/plain": [
       "        Nome Sobrenome Data de Nascimento            Loja   Produto  \\\n",
       "0     Elizeu    Barros         16/12/1993        Salvador    Casaco   \n",
       "93   Juliane    Felipi         09/04/1992        Salvador    Sapato   \n",
       "92    Izabel   Milagre         24/07/1988  Rio de Janeiro  Pulseira   \n",
       "60  Maryanna    Correa         08/10/1989        Curitiba    Casaco   \n",
       "90  Maryanna    Correa         01/05/1993        Brasilia   Vestido   \n",
       "\n",
       "         Data  Quantidade Vendida  Preco  Faturamento Mes_Vendas  \\\n",
       "0  2018-01-02                 105    150        15750  Fevereiro   \n",
       "93 2018-01-27                  43     75         3225    Janeiro   \n",
       "92 2018-01-27                 139     25         3475    Janeiro   \n",
       "60 2018-01-17                  86     55         4730    Janeiro   \n",
       "90 2018-01-26                   7    150         1050    Janeiro   \n",
       "\n",
       "    Mes_Vendas_Num  Devolucoes  \n",
       "0                1           1  \n",
       "93               1           2  \n",
       "92               1           6  \n",
       "60               1           7  \n",
       "90               1           1  "
      ]
     },
     "execution_count": 89,
     "metadata": {},
     "output_type": "execute_result"
    }
   ],
   "source": [
    "vendas.head()"
   ]
  },
  {
   "cell_type": "code",
   "execution_count": 90,
   "metadata": {},
   "outputs": [],
   "source": [
    "Qtd_Devolucoes=vendas['Devolucoes'].sum()"
   ]
  },
  {
   "cell_type": "code",
   "execution_count": 91,
   "metadata": {},
   "outputs": [
    {
     "data": {
      "text/plain": [
       "5792"
      ]
     },
     "execution_count": 91,
     "metadata": {},
     "output_type": "execute_result"
    }
   ],
   "source": [
    "Qtd_Devolucoes"
   ]
  },
  {
   "cell_type": "code",
   "execution_count": 92,
   "metadata": {},
   "outputs": [],
   "source": [
    "vendas.to_csv('vendas.csv')"
   ]
  },
  {
   "cell_type": "code",
   "execution_count": null,
   "metadata": {},
   "outputs": [],
   "source": []
  }
 ],
 "metadata": {
  "kernelspec": {
   "display_name": "Python 3",
   "language": "python",
   "name": "python3"
  },
  "language_info": {
   "codemirror_mode": {
    "name": "ipython",
    "version": 3
   },
   "file_extension": ".py",
   "mimetype": "text/x-python",
   "name": "python",
   "nbconvert_exporter": "python",
   "pygments_lexer": "ipython3",
   "version": "3.8.5"
  }
 },
 "nbformat": 4,
 "nbformat_minor": 4
}
